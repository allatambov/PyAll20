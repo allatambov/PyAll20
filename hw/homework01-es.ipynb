{
 "cells": [
  {
   "cell_type": "markdown",
   "metadata": {},
   "source": [
    "\n",
    "# Python\n",
    "\n",
    "## Tarea 1\n",
    "\n",
    "Para enviar las soluciones hay que subirlas por Dropbox como el `ipynb`-archivo. Para obtener el archivo puede eligir *File → Download as... → Notebook (.ipynb)* en Jupyter Notebook. \n",
    "\n",
    "Algoritmo:\n",
    "\n",
    "1. Descargar `ipynb`-archivo con la tarea.\n",
    "2. Subir el archivo al Jupyter Notebook (por *Upload*).\n",
    "3. Escribir su código en las células con `# YOUR CODE HERE`.\n",
    "4. Guardar y subir el archivo por Dropbox.\n"
   ]
  },
  {
   "cell_type": "markdown",
   "metadata": {},
   "source": [
    "### Problema 1 (1 punto)\n",
    "\n",
    "Escribe un programa que pide al usario un número entero y muestre por pantalla el mensaje siguiente:\n",
    "     \n",
    "     El número siguiente: [valor].\n",
    "     \n",
    "**Ejemplo:**\n",
    "\n",
    "*Entrada*\n",
    "\n",
    "    Número entero: 7\n",
    "\n",
    "*Resultado*\n",
    "\n",
    "    El número siguiente: 8."
   ]
  },
  {
   "cell_type": "code",
   "execution_count": null,
   "metadata": {},
   "outputs": [],
   "source": [
    "# YOUR CODE HERE"
   ]
  },
  {
   "cell_type": "markdown",
   "metadata": {},
   "source": [
    "### Problema 2 (1 punto)\n",
    "\n",
    "Escribe un programa que pide al usario una talla de calzado y muestre por pantalla la talla de zapatos de escalada. La talla de zapatos de escalada es menos que el número de calzado por 2. \n",
    "\n",
    "**Ejemplo:**\n",
    "\n",
    "*Entrada*\n",
    "\n",
    "    38\n",
    "\n",
    "*Resultado*\n",
    "\n",
    "    36\n"
   ]
  },
  {
   "cell_type": "code",
   "execution_count": null,
   "metadata": {},
   "outputs": [],
   "source": [
    "# YOUR CODE HERE"
   ]
  },
  {
   "cell_type": "markdown",
   "metadata": {},
   "source": [
    "### Problema 3 (1 punto)\n",
    "\n",
    "Escribe un programa que pregunte al usario su nombre y muestre por pantalla el mensaje siguiente (hace caso de espacios):\n",
    "\n",
    "    [Nombre]... es brillante!\n",
    "    \n",
    "**Ejemplo:**\n",
    "\n",
    "*Entrada*\n",
    "\n",
    "    Anna\n",
    "\n",
    "*Resultado*\n",
    "\n",
    "    Anna... es brillante!"
   ]
  },
  {
   "cell_type": "code",
   "execution_count": null,
   "metadata": {},
   "outputs": [],
   "source": [
    "# YOUR CODE HERE"
   ]
  },
  {
   "cell_type": "markdown",
   "metadata": {},
   "source": [
    "### Problema 4 (1 punto)\n",
    "\n",
    "Escribe un programa que pide al usario dos números (un número para una entrada) y muestre por pantalla el mensaje siguiente:\n",
    "\n",
    "    [a] elevado a [b] es [valor 1], [b] elevado a [a] es [valor 2]\n",
    "    \n",
    "**Ejemplo:**\n",
    "\n",
    "*Entrada*\n",
    "\n",
    "    2\n",
    "    3\n",
    "    \n",
    "*Resultado*\n",
    "\n",
    "    2 elevado a 3 es 8, 3 elevado a 2 es 9\n",
    "    \n",
    "*Entrada*\n",
    "\n",
    "    4\n",
    "    3\n",
    "    \n",
    "*Resultado*\n",
    "\n",
    "    4 elevado a 3 es 64, 3 elevado a 4 es 81"
   ]
  },
  {
   "cell_type": "code",
   "execution_count": null,
   "metadata": {},
   "outputs": [],
   "source": [
    "# YOUR CODE HERE"
   ]
  },
  {
   "cell_type": "markdown",
   "metadata": {},
   "source": [
    "### Problema 5 (2 puntos)\n",
    "\n",
    "Por la semana el pitón recibe 5 mensajes de la anaconda ($\\lambda = 5$). El usuario ingresa el número de mensajes que anaconda puede enviar al pitón ($k$). Escribe un problema que muestre por pantalla la probabilidad con la cuál el pitón recibirá $k$ mensajes, redondeada a tres decimales. \n",
    "El mensaje:\n",
    "\n",
    "    El numero de mensajes es [valor 1], probabilidad es [valor 2].\n",
    "    \n",
    "La probilidad es \n",
    "\n",
    "$$\n",
    "P(X = k) = e^{-\\lambda}\\cdot \\frac{\\lambda^k}{k!},\n",
    "$$ donde $k!$ es el factorial, el producto de todos los números enteros positivos desde 1 hasta $k$. \n",
    "\n",
    "**Consejo:** puede usar la función `factorial()` de `math`.\n",
    "\n",
    "**Ejemplo:**\n",
    "\n",
    "*Entrada*\n",
    "\n",
    "    Numero de mensajes: 2\n",
    "\n",
    "*Resultado*\n",
    "\n",
    "    El numero de mensajes de la anaconda es 2, la probabilidad es 0.084.\n"
   ]
  },
  {
   "cell_type": "code",
   "execution_count": null,
   "metadata": {},
   "outputs": [],
   "source": [
    "# YOUR CODE HERE"
   ]
  }
 ],
 "metadata": {
  "kernelspec": {
   "display_name": "Python 3",
   "language": "python",
   "name": "python3"
  },
  "language_info": {
   "codemirror_mode": {
    "name": "ipython",
    "version": 3
   },
   "file_extension": ".py",
   "mimetype": "text/x-python",
   "name": "python",
   "nbconvert_exporter": "python",
   "pygments_lexer": "ipython3",
   "version": "3.7.4"
  }
 },
 "nbformat": 4,
 "nbformat_minor": 2
}
