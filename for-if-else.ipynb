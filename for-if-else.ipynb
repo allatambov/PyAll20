{
 "cells": [
  {
   "cell_type": "markdown",
   "metadata": {},
   "source": [
    "## Программирование для всех (основы работы в Python)\n",
    "\n",
    "*Алла Тамбовцева*\n",
    "\n",
    "### Цикл `for` и условные конструкции: дополнение"
   ]
  },
  {
   "cell_type": "markdown",
   "metadata": {},
   "source": [
    "Посмотрим на следующий пример. У нас есть список оценок и на каждую оценку мы хотим выводить комментарий (*Bad*, *Satisfactory*, *Good*, *Excellent*)."
   ]
  },
  {
   "cell_type": "code",
   "execution_count": 1,
   "metadata": {},
   "outputs": [],
   "source": [
    "marks = [4, 10, 8, 7, 9, 2] "
   ]
  },
  {
   "cell_type": "markdown",
   "metadata": {},
   "source": [
    "Условия для комментариев:\n",
    "    \n",
    "* `Bad`: плохие оценки – менее 4;\n",
    "* `Satisfactory`: удовлетворительные оценки – не менее 4, но менее 6;\n",
    "* `Good`: хорошие оценки – не менее 6, но менее 8;\n",
    "* `Excellent`: отличные оценки – не менее 8."
   ]
  },
  {
   "cell_type": "code",
   "execution_count": 2,
   "metadata": {},
   "outputs": [
    {
     "name": "stdout",
     "output_type": "stream",
     "text": [
      "4 Satisfactory\n",
      "10 Excellent\n",
      "8 Excellent\n",
      "7 Good\n",
      "9 Excellent\n",
      "2 Bad!\n"
     ]
    }
   ],
   "source": [
    "for m in marks:\n",
    "    if m < 4:\n",
    "        print(m, \"Bad!\")\n",
    "    if (m >= 4) and (m < 6):\n",
    "        print(m, \"Satisfactory\")\n",
    "    if (m >= 6) and (m < 8):\n",
    "        print(m, \"Good\")\n",
    "    if (m >= 8):\n",
    "        print(m, \"Excellent\") "
   ]
  },
  {
   "cell_type": "markdown",
   "metadata": {},
   "source": [
    "Альтернативное решение для желающих – через `elif`:"
   ]
  },
  {
   "cell_type": "code",
   "execution_count": 3,
   "metadata": {},
   "outputs": [
    {
     "name": "stdout",
     "output_type": "stream",
     "text": [
      "4 Satisfactory\n",
      "10 Excellent\n",
      "8 Excellent\n",
      "7 Good\n",
      "9 Excellent\n",
      "2 Bad!\n"
     ]
    }
   ],
   "source": [
    "for m in marks:\n",
    "    if m < 4:\n",
    "        print(m, \"Bad!\")\n",
    "    elif m < 6:\n",
    "        print(m, \"Satisfactory\")\n",
    "    elif m < 8:\n",
    "        print(m, \"Good\")\n",
    "    else:\n",
    "        print(m, \"Excellent\") "
   ]
  }
 ],
 "metadata": {
  "kernelspec": {
   "display_name": "Python 3",
   "language": "python",
   "name": "python3"
  },
  "language_info": {
   "codemirror_mode": {
    "name": "ipython",
    "version": 3
   },
   "file_extension": ".py",
   "mimetype": "text/x-python",
   "name": "python",
   "nbconvert_exporter": "python",
   "pygments_lexer": "ipython3",
   "version": "3.7.4"
  }
 },
 "nbformat": 4,
 "nbformat_minor": 2
}
