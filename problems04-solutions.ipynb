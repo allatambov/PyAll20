{
 "cells": [
  {
   "cell_type": "markdown",
   "metadata": {},
   "source": [
    "# Программирование для всех (основы работы с Python)\n",
    "\n",
    "*Алла Тамбовцева, НИУ ВШЭ*\n",
    "\n",
    "## Набор задач 4: условные конструкции и цикл `while`"
   ]
  },
  {
   "cell_type": "markdown",
   "metadata": {},
   "source": [
    "### Задача 1\n",
    "Напишите программу, которая просит пользователя ввести положительное число, и если пользователь вводит положительное число, выводит на экран сообщение \"Молодец!\", если нет – сообщение \"Это не положительное число.\".\n",
    "\n",
    "Считайте, что пользователь в любом случае вводит числа, а не какой-то текст."
   ]
  },
  {
   "cell_type": "code",
   "execution_count": 1,
   "metadata": {},
   "outputs": [
    {
     "name": "stdout",
     "output_type": "stream",
     "text": [
      "Введите положительное число: 0\n",
      "Это не положительное число.\n"
     ]
    }
   ],
   "source": [
    "n = float(input(\"Введите положительное число: \"))\n",
    "if n > 0:\n",
    "    print(\"Молодец!\")\n",
    "else:\n",
    "    print(\"Это не положительное число.\")"
   ]
  },
  {
   "cell_type": "markdown",
   "metadata": {},
   "source": [
    "### Задача 2\n",
    "\n",
    "Пользователь вводит с клавиатуры два числа через пробел. Напишите код, который возвращает максимальное из двух введенных значений. \n",
    "\n",
    "**Пример:**\n",
    "\n",
    "Ввод: \n",
    "\n",
    "    Введите два числа: 5.7 8\n",
    "    \n",
    "Вывод: \n",
    "\n",
    "    8.0"
   ]
  },
  {
   "cell_type": "code",
   "execution_count": 2,
   "metadata": {},
   "outputs": [
    {
     "name": "stdout",
     "output_type": "stream",
     "text": [
      "Enter two numbers:5.7 8\n",
      "8.0\n"
     ]
    }
   ],
   "source": [
    "inp = input(\"Enter two numbers:\")\n",
    "L = inp.split()\n",
    "\n",
    "nums = []\n",
    "for i in L:\n",
    "    nums.append(float(i))\n",
    "\n",
    "if nums[0] > nums[1]:\n",
    "    print(nums[0])\n",
    "else:\n",
    "    print(nums[1])"
   ]
  },
  {
   "cell_type": "code",
   "execution_count": 3,
   "metadata": {},
   "outputs": [
    {
     "name": "stdout",
     "output_type": "stream",
     "text": [
      "Enter two numbers:7 10\n",
      "10.0\n"
     ]
    }
   ],
   "source": [
    "# проще – без if-else, но с функцией max()\n",
    "\n",
    "inp = input(\"Enter two numbers:\")\n",
    "L = inp.split()\n",
    "\n",
    "nums = []\n",
    "for i in L:\n",
    "    nums.append(float(i))\n",
    "\n",
    "print(max(nums))"
   ]
  },
  {
   "cell_type": "markdown",
   "metadata": {},
   "source": [
    "### Задача 3\n",
    "\n",
    "Дан список `N` из целых чисел. Напишите код, который делает следующее: выводит каждый элемент списка на экран и для каждого элемента либо выводит комментарий \"Это четное число\", либо комментарии \"Это нечетное число\".\n",
    "\n",
    "*Подсказка:* оператор для нахождения остатка от деления – это `%`."
   ]
  },
  {
   "cell_type": "code",
   "execution_count": 4,
   "metadata": {},
   "outputs": [
    {
     "name": "stdout",
     "output_type": "stream",
     "text": [
      "0 Это число чётное\n",
      "5 Это число нечётное\n",
      "4 Это число чётное\n",
      "6 Это число чётное\n",
      "7 Это число нечётное\n",
      "1 Это число нечётное\n",
      "9 Это число нечётное\n",
      "10 Это число чётное\n"
     ]
    }
   ],
   "source": [
    "N = [0, 5, 4, 6, 7, 1, 9, 10]\n",
    "\n",
    "for n in N:\n",
    "    if n % 2 == 0:\n",
    "        print(n, \"Это число чётное\")\n",
    "    else:\n",
    "        print(n, \"Это число нечётное\")"
   ]
  },
  {
   "cell_type": "markdown",
   "metadata": {},
   "source": [
    "### Задача 4\n",
    "\n",
    "У питона есть набор любимых чисел.\n",
    "\n",
    "    favorites = [3, 7, 11, 23, 18, 48, 81]\n",
    "\n",
    "Напишите программу, которая просит пользователя ввести целое число, и если оно нравится питону, на экран будет выводиться сообщение: \"Мое любимое число!\", если нет – \"Эх, ну почему?\"."
   ]
  },
  {
   "cell_type": "code",
   "execution_count": 5,
   "metadata": {},
   "outputs": [
    {
     "name": "stdout",
     "output_type": "stream",
     "text": [
      "Введите целое число: 11\n",
      "Моё любимое число!\n"
     ]
    }
   ],
   "source": [
    "favorites = [3, 7, 11, 23, 18, 48, 81]\n",
    "\n",
    "k = int(input(\"Введите целое число: \"))\n",
    "\n",
    "if k in favorites:\n",
    "    print(\"Моё любимое число!\")\n",
    "else:\n",
    "    print(\"Эх, ну почему?\")"
   ]
  },
  {
   "cell_type": "markdown",
   "metadata": {},
   "source": [
    "### Задача 5\n",
    "Напишите программу, которая запрашивает у пользователя пароль, и далее:\n",
    "\n",
    "* если пароль верный, выводит на экран сообщение \"Login success\".\n",
    "* если пароль неверный, выводит на экран сообщение \"Incorrect password, try again!\" до тех пор, пока пользователь не введет верный пароль."
   ]
  },
  {
   "cell_type": "code",
   "execution_count": 6,
   "metadata": {},
   "outputs": [
    {
     "name": "stdout",
     "output_type": "stream",
     "text": [
      "Enter password: hse\n",
      "Enter password: hsep\n",
      "Enter password: hsepassword\n",
      "Login success.\n"
     ]
    }
   ],
   "source": [
    "# вариант 1: классика\n",
    "\n",
    "password = \"hsepassword\"\n",
    "attempt = input(\"Enter password: \")\n",
    "\n",
    "while password != attempt:\n",
    "    attempt = input(\"Enter password: \")\n",
    "print(\"Login success.\")"
   ]
  },
  {
   "cell_type": "code",
   "execution_count": 7,
   "metadata": {},
   "outputs": [
    {
     "name": "stdout",
     "output_type": "stream",
     "text": [
      "Enter password.h\n",
      "Incorrect password, try again!\n",
      "Enter password.hsepassword\n",
      "Login success.\n"
     ]
    }
   ],
   "source": [
    "# вариант 2: while True + break\n",
    "\n",
    "password = \"hsepassword\"\n",
    "\n",
    "while True:\n",
    "    attempt = input(\"Enter password.\")\n",
    "    if attempt == password:\n",
    "        print(\"Login success.\")\n",
    "        break\n",
    "    else:\n",
    "        print(\"Incorrect password, try again!\")"
   ]
  }
 ],
 "metadata": {
  "kernelspec": {
   "display_name": "Python 3",
   "language": "python",
   "name": "python3"
  },
  "language_info": {
   "codemirror_mode": {
    "name": "ipython",
    "version": 3
   },
   "file_extension": ".py",
   "mimetype": "text/x-python",
   "name": "python",
   "nbconvert_exporter": "python",
   "pygments_lexer": "ipython3",
   "version": "3.7.4"
  }
 },
 "nbformat": 4,
 "nbformat_minor": 2
}
