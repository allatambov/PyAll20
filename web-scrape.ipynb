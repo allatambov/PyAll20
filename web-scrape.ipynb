{
 "cells": [
  {
   "cell_type": "markdown",
   "metadata": {},
   "source": [
    "# Программирование для всех (основы работы в Python)\n",
    "\n",
    "*Алла Тамбовцева, НИУ ВШЭ*"
   ]
  },
  {
   "cell_type": "markdown",
   "metadata": {},
   "source": [
    "## Web-scraping\n",
    "\n",
    "Мы уже немного познакомились со структурой html-файлов, теперь попробуем выгрузить информацию из реальной страницы, а точнее, с реального сайта [nplus1.ru](https://nplus1.ru/).\n",
    "\n",
    "**Наша задача:** выгрузить недавние новости в датафрейм `pandas`, чтобы потом сохранить все в csv-файл.\n",
    "\n",
    "Сначала сгрузим весь html-код страницы и сохраним его в отдельную переменную. Для этого нам понадобится библиотека `requests`. Импортируем её:"
   ]
  },
  {
   "cell_type": "code",
   "execution_count": 1,
   "metadata": {},
   "outputs": [],
   "source": [
    "import requests"
   ]
  },
  {
   "cell_type": "markdown",
   "metadata": {},
   "source": [
    "Сохраним ссылку на главную страницу сайта в переменную `url` для удобства и выгрузим страницу. (Разумеется, это будет работать при подключении к интернету. Если соединение будет отключено, Python выдаст `NewConnectionError`)."
   ]
  },
  {
   "cell_type": "code",
   "execution_count": 2,
   "metadata": {},
   "outputs": [],
   "source": [
    "url = 'https://nplus1.ru/' # сохраняем\n",
    "page = requests.get(url) # загружаем страницу по ссылке"
   ]
  },
  {
   "cell_type": "markdown",
   "metadata": {},
   "source": [
    "Если мы просто посмотрим на объект, мы ничего особенного не увидим:"
   ]
  },
  {
   "cell_type": "code",
   "execution_count": 3,
   "metadata": {},
   "outputs": [
    {
     "data": {
      "text/plain": [
       "<Response [200]>"
      ]
     },
     "execution_count": 3,
     "metadata": {},
     "output_type": "execute_result"
    }
   ],
   "source": [
    "page  # response 200 - страница загружена"
   ]
  },
  {
   "cell_type": "markdown",
   "metadata": {},
   "source": [
    "Импортируем функцию `BeautifulSoup` из библиотеки `bs4` (от *beautifulsoup4*) и заберём со страницы `page` код html в виде текста. "
   ]
  },
  {
   "cell_type": "code",
   "execution_count": 4,
   "metadata": {},
   "outputs": [],
   "source": [
    "from bs4 import BeautifulSoup  # не спрашивайте, почему BeautifulSoup"
   ]
  },
  {
   "cell_type": "code",
   "execution_count": 5,
   "metadata": {},
   "outputs": [],
   "source": [
    "soup = BeautifulSoup(page.text)"
   ]
  },
  {
   "cell_type": "markdown",
   "metadata": {},
   "source": [
    "Если выведем `soup` на экран, мы увидим то же самое, что в режиме разработчика или в режиме просмотра исходного кода страницы (`view-source` через *Ctrl+U* в Google Chrome)."
   ]
  },
  {
   "cell_type": "code",
   "execution_count": 7,
   "metadata": {},
   "outputs": [],
   "source": [
    "soup"
   ]
  },
  {
   "cell_type": "markdown",
   "metadata": {},
   "source": [
    "Для просмотра выглядит не очень удобно.  «Причешем» наш `soup` – воспользуемся методом `.prettify()` в сочетании с функцией `print()`."
   ]
  },
  {
   "cell_type": "code",
   "execution_count": null,
   "metadata": {},
   "outputs": [],
   "source": [
    "print(soup.prettify())"
   ]
  },
  {
   "cell_type": "markdown",
   "metadata": {},
   "source": [
    "В такой выдаче ориентироваться гораздо удобнее (но при желании, то же можно увидеть в браузере, на большом экране)."
   ]
  },
  {
   "cell_type": "markdown",
   "metadata": {},
   "source": [
    "Чтобы сгрузить все новости с главной страницы сайта, нужно собрать все ссылки на страницы с этими новостями. Ссылки в html-файле всегда заключены в тэг `<a></a>` и имеют атрибут `href`. Посмотрим на кусочки кода, соответствующие всем ссылкам на главной странице сайта:"
   ]
  },
  {
   "cell_type": "code",
   "execution_count": 8,
   "metadata": {},
   "outputs": [
    {
     "name": "stdout",
     "output_type": "stream",
     "text": [
      "#\n",
      "/\n",
      "#\n",
      "#\n",
      "/rubric/astronomy\n",
      "/rubric/physics\n",
      "/rubric/biology\n",
      "/rubric/robots-drones\n",
      "/theme/explainatorium\n",
      "/theme/bookshelf\n",
      "/theme/nobelprize\n",
      "/theme/Courses\n",
      "/theme/coronavirus-history\n",
      "/\n",
      "#\n",
      "/rubric/astronomy\n",
      "/rubric/physics\n",
      "/rubric/biology\n",
      "/rubric/robots-drones\n",
      "#\n",
      "/theme/explainatorium\n",
      "/theme/bookshelf\n",
      "/theme/nobelprize\n",
      "/theme/Courses\n",
      "/theme/coronavirus-history\n",
      "https://nplus1.ru/blog/2020/10/12/darwins-dangerous-idea\n",
      "https://nplus1.ru/blog/2020/10/12/darwins-dangerous-idea\n",
      "https://nplus1.ru/blog/2020/10/09/marriage-and-extramarital-life\n",
      "https://nplus1.ru/blog/2020/10/08/the-science-of-staying-well\n",
      "https://nplus1.ru/blog/2020/10/07/fight-for-freedom-in-the-don-region\n",
      "https://nplus1.ru/blog/2020/10/01/october-2020-observations\n",
      "https://nplus1.ru/blog/2020/09/30/in-search-of-constantinople\n",
      "https://nplus1.ru/blog/2020/09/28/the-hungry-steppe\n",
      "https://nplus1.ru/blog/2020/09/24/nobel-prediction\n",
      "https://nplus1.ru/blog/2020/09/18/formations-of-the-secular\n",
      "https://nplus1.ru/blog/2020/10/13/the-diet-myth\n",
      "/news/2020/10/14/silver-electronics\n",
      "/news/2020/10/14/wolves-attachment\n",
      "/news/2020/10/14/room-temperature-superconductivity\n",
      "/news/2020/10/14/airborne-c-and-c\n",
      "/news/2020/10/14/same-sex-kids\n",
      "/news/2020/10/14/kawasaki\n",
      "/news/2020/10/14/physical-health-longevity-and-communication-freque\n",
      "/material/2020/10/14/rfid\n",
      "/rubric/partners\n",
      "/theme/find-avito\n",
      "/material/2020/10/13/war-pills\n",
      "/rubric/weapon\n",
      "/news/2020/10/14/reproductive-right-and-babies\n",
      "/news/2020/10/14/UVultrafastphotography\n",
      "/news/2020/10/14/stormbreaker\n",
      "/news/2020/10/13/shepard-lunar\n",
      "/news/2020/10/13/apple-october\n",
      "/news/2020/10/13/Meniscus-guided-organic-tft\n",
      "/blog/2020/10/12/darwins-dangerous-idea\n",
      "/blog/2020/10/12/pighearted-blog\n",
      "/material/2020/10/13/nobel-econ-2020\n",
      "/rubric/economics\n",
      "/theme/nobelprize\n",
      "/material/2020/10/09/chumakov-sarscov-vaccine\n",
      "/rubric/medicine\n",
      "/theme/coronavirus-history\n",
      "/news/2020/10/13/proteus-anguinus\n",
      "/news/2020/10/13/mice-gender\n",
      "/news/2020/10/13/pluto-methane\n",
      "/news/2020/10/13/pheucticus-ludovicianus\n",
      "/news/2020/10/13/crew-1-november\n",
      "/news/2020/10/13/mineral\n",
      "/blog/2020/10/09/marriage-and-extramarital-life\n",
      "/blog/2020/10/01/october-2020-observations\n",
      "/news/2020/10/09/paper-picturers\n",
      "/rubric/mezzanine\n",
      "/material/2020/10/07/nobel-chem-2020\n",
      "/rubric/biology\n",
      "/theme/nobelprize\n",
      "/news/2020/10/12/top-quark-nucleus-nucleus\n",
      "/material/2020/10/12/sm2\n",
      "/material/2020/10/06/soft-skills-are-hard\n",
      "/material/2020/10/06/physics-nobel-2020\n",
      "/news/2020/10/12/memristorspectra\n",
      "/news/2020/10/08/strange-b-meson-asymmetry\n",
      "/news/2020/10/14/UVultrafastphotography\n",
      "/news/2020/10/13/moles-females\n",
      "/news/2020/10/12/srb-electrode\n",
      "/news/2020/10/09/magneto-thomson-effect\n",
      "https://nplus1.ru/blog/2020/10/12/darwins-dangerous-idea\n",
      "https://nplus1.ru/blog/2020/10/12/darwins-dangerous-idea\n",
      "https://nplus1.ru/blog/2020/10/09/marriage-and-extramarital-life\n",
      "https://nplus1.ru/blog/2020/10/08/the-science-of-staying-well\n",
      "https://nplus1.ru/blog/2020/10/07/fight-for-freedom-in-the-don-region\n",
      "https://nplus1.ru/blog/2020/10/01/october-2020-observations\n",
      "https://nplus1.ru/blog/2020/09/30/in-search-of-constantinople\n",
      "https://nplus1.ru/blog/2020/09/28/the-hungry-steppe\n",
      "https://nplus1.ru/blog/2020/09/24/nobel-prediction\n",
      "https://nplus1.ru/blog/2020/09/18/formations-of-the-secular\n",
      "https://nplus1.ru/blog/2020/10/13/the-diet-myth\n",
      "/\n",
      "/about\n",
      "/adv\n",
      "/rules\n",
      "/vacancy\n",
      "/difficult\n",
      "https://nplus1.ru/personal-data-policy\n",
      "#\n",
      "https://t.me/nplusone\n",
      "http://vk.com/nplusone\n",
      "https://www.facebook.com/nplusone\n",
      "https://twitter.com/nplusodin\n",
      "https://ok.ru/nplus1\n",
      "https://soundcloud.com/nplus_1\n",
      "/rss\n"
     ]
    }
   ],
   "source": [
    "for link in soup.find_all('a'):\n",
    "    print(link.get('href'))"
   ]
  },
  {
   "cell_type": "markdown",
   "metadata": {},
   "source": [
    "Ссылок много. Но нам нужны только новости – ссылки, которые начинаются со слова `/news`. Добавим условие: будем выбирать только те ссылки, в которых есть `/news`. Создадим пустой список `urls` и будем добавлять в него только ссылки, которые удовлетворяют этому условию."
   ]
  },
  {
   "cell_type": "code",
   "execution_count": 9,
   "metadata": {},
   "outputs": [
    {
     "data": {
      "text/plain": [
       "['/news/2020/10/14/silver-electronics',\n",
       " '/news/2020/10/14/wolves-attachment',\n",
       " '/news/2020/10/14/room-temperature-superconductivity',\n",
       " '/news/2020/10/14/airborne-c-and-c',\n",
       " '/news/2020/10/14/same-sex-kids',\n",
       " '/news/2020/10/14/kawasaki',\n",
       " '/news/2020/10/14/physical-health-longevity-and-communication-freque',\n",
       " '/news/2020/10/14/reproductive-right-and-babies',\n",
       " '/news/2020/10/14/UVultrafastphotography',\n",
       " '/news/2020/10/14/stormbreaker',\n",
       " '/news/2020/10/13/shepard-lunar',\n",
       " '/news/2020/10/13/apple-october',\n",
       " '/news/2020/10/13/Meniscus-guided-organic-tft',\n",
       " '/news/2020/10/13/proteus-anguinus',\n",
       " '/news/2020/10/13/mice-gender',\n",
       " '/news/2020/10/13/pluto-methane',\n",
       " '/news/2020/10/13/pheucticus-ludovicianus',\n",
       " '/news/2020/10/13/crew-1-november',\n",
       " '/news/2020/10/13/mineral',\n",
       " '/news/2020/10/09/paper-picturers',\n",
       " '/news/2020/10/12/top-quark-nucleus-nucleus',\n",
       " '/news/2020/10/12/memristorspectra',\n",
       " '/news/2020/10/08/strange-b-meson-asymmetry',\n",
       " '/news/2020/10/14/UVultrafastphotography',\n",
       " '/news/2020/10/13/moles-females',\n",
       " '/news/2020/10/12/srb-electrode',\n",
       " '/news/2020/10/09/magneto-thomson-effect']"
      ]
     },
     "execution_count": 9,
     "metadata": {},
     "output_type": "execute_result"
    }
   ],
   "source": [
    "urls = []\n",
    "\n",
    "for link in soup.find_all('a'):\n",
    "    if '/news' in link.get('href'):\n",
    "        urls.append(link.get('href'))\n",
    "urls"
   ]
  },
  {
   "cell_type": "markdown",
   "metadata": {},
   "source": [
    "Ссылки, которые у нас есть в списке `urls`, относительные: они неполные, начало ссылки (название сайта) отсутствует. Давайте превратим их в абсолютные ‒ склеим с ссылкой https://nplus1.ru."
   ]
  },
  {
   "cell_type": "code",
   "execution_count": 10,
   "metadata": {},
   "outputs": [
    {
     "data": {
      "text/plain": [
       "['https://nplus1.ru/news/2020/10/14/silver-electronics',\n",
       " 'https://nplus1.ru/news/2020/10/14/wolves-attachment',\n",
       " 'https://nplus1.ru/news/2020/10/14/room-temperature-superconductivity',\n",
       " 'https://nplus1.ru/news/2020/10/14/airborne-c-and-c',\n",
       " 'https://nplus1.ru/news/2020/10/14/same-sex-kids',\n",
       " 'https://nplus1.ru/news/2020/10/14/kawasaki',\n",
       " 'https://nplus1.ru/news/2020/10/14/physical-health-longevity-and-communication-freque',\n",
       " 'https://nplus1.ru/news/2020/10/14/reproductive-right-and-babies',\n",
       " 'https://nplus1.ru/news/2020/10/14/UVultrafastphotography',\n",
       " 'https://nplus1.ru/news/2020/10/14/stormbreaker',\n",
       " 'https://nplus1.ru/news/2020/10/13/shepard-lunar',\n",
       " 'https://nplus1.ru/news/2020/10/13/apple-october',\n",
       " 'https://nplus1.ru/news/2020/10/13/Meniscus-guided-organic-tft',\n",
       " 'https://nplus1.ru/news/2020/10/13/proteus-anguinus',\n",
       " 'https://nplus1.ru/news/2020/10/13/mice-gender',\n",
       " 'https://nplus1.ru/news/2020/10/13/pluto-methane',\n",
       " 'https://nplus1.ru/news/2020/10/13/pheucticus-ludovicianus',\n",
       " 'https://nplus1.ru/news/2020/10/13/crew-1-november',\n",
       " 'https://nplus1.ru/news/2020/10/13/mineral',\n",
       " 'https://nplus1.ru/news/2020/10/09/paper-picturers',\n",
       " 'https://nplus1.ru/news/2020/10/12/top-quark-nucleus-nucleus',\n",
       " 'https://nplus1.ru/news/2020/10/12/memristorspectra',\n",
       " 'https://nplus1.ru/news/2020/10/08/strange-b-meson-asymmetry',\n",
       " 'https://nplus1.ru/news/2020/10/14/UVultrafastphotography',\n",
       " 'https://nplus1.ru/news/2020/10/13/moles-females',\n",
       " 'https://nplus1.ru/news/2020/10/12/srb-electrode',\n",
       " 'https://nplus1.ru/news/2020/10/09/magneto-thomson-effect']"
      ]
     },
     "execution_count": 10,
     "metadata": {},
     "output_type": "execute_result"
    }
   ],
   "source": [
    "full_urls = []\n",
    "\n",
    "for u in urls:\n",
    "    res = 'https://nplus1.ru' + u\n",
    "    full_urls.append(res) \n",
    "\n",
    "full_urls"
   ]
  },
  {
   "cell_type": "markdown",
   "metadata": {},
   "source": [
    "Теперь наша задача сводится к следующему: изучить одну страницу с новостью, научиться из нее вытаскивать текст и всю необходимую информацию, а потом применить весь набор действий к каждой ссылке из `full_urls` в цикле. Посмотрим на новость с индексом 1, у вас может быть другая, новости обновляются."
   ]
  },
  {
   "cell_type": "code",
   "execution_count": 11,
   "metadata": {},
   "outputs": [],
   "source": [
    "url0 = full_urls[1]\n",
    "\n",
    "page0 = requests.get(url0)\n",
    "soup0 = BeautifulSoup(page0.text)"
   ]
  },
  {
   "cell_type": "markdown",
   "metadata": {},
   "source": [
    "В коде каждой страницы с новостью есть часть с мета-информацией: датой, именем автора и проч. Такая информация окружена тэгом `<meta></meta>`. Посмотрим:"
   ]
  },
  {
   "cell_type": "code",
   "execution_count": 12,
   "metadata": {},
   "outputs": [
    {
     "data": {
      "text/plain": [
       "[<meta charset=\"utf-8\"/>,\n",
       " <meta content=\"ie=edge\" http-equiv=\"x-ua-compatible\"/>,\n",
       " <meta content=\"width=device-width, initial-scale=1\" name=\"viewport\"/>,\n",
       " <meta content=\"yes\" name=\"apple-mobile-web-app-capable\"/>,\n",
       " <meta content=\"black\" name=\"apple-mobile-web-app-status-bar-style\"/>,\n",
       " <meta content=\"2020-10-14\" itemprop=\"datePublished\"/>,\n",
       " <meta content=\"Елизавета Ивтушок\" name=\"mediator_author\"/>,\n",
       " <meta content=\"Если волка оставить на поводке у незнакомца, он начнет скулить и рваться к человеку, которого знает\" name=\"description\"/>,\n",
       " <meta content=\"Елизавета Ивтушок\" name=\"author\"/>,\n",
       " <meta content=\"\" name=\"copyright\"/>,\n",
       " <meta content=\"Волки привязались к дрессировщикам\" property=\"og:title\"/>,\n",
       " <meta content=\"https://nplus1.ru/images/2020/10/14/6021f53daf9ca5eebcaf77e0454f3541.jpg\" property=\"og:image\"/>,\n",
       " <meta content=\"https://nplus1.ru/news/2020/10/14/wolves-attachment\" property=\"og:url\"/>,\n",
       " <meta content=\"Если волка оставить на поводке у незнакомца, он начнет скулить и рваться к человеку, которого знает\" property=\"og:description\"/>,\n",
       " <meta content=\"summary_large_image\" name=\"twitter:card\"/>,\n",
       " <meta content=\"@nplusodin\" name=\"twitter:site\"/>,\n",
       " <meta content=\"Волки привязались к дрессировщикам\" name=\"twitter:title\"/>,\n",
       " <meta content=\"Если волка оставить на поводке у незнакомца, он начнет скулить и рваться к человеку, которого знает\" name=\"twitter:description\"/>,\n",
       " <meta content=\"https://nplus1.ru/images/2020/10/14/6021f53daf9ca5eebcaf77e0454f3541.jpg\" name=\"twitter:image\"/>,\n",
       " <meta content=\"8c90b02c84ac3b72\" name=\"yandex-verification\"/>]"
      ]
     },
     "execution_count": 12,
     "metadata": {},
     "output_type": "execute_result"
    }
   ],
   "source": [
    "soup0.find_all('meta')"
   ]
  },
  {
   "cell_type": "markdown",
   "metadata": {},
   "source": [
    "Из этого списка нам нужны части с именем автора, датой, заголовком и кратким описанием. Воспользуемся поиском по атрибуту `name`. Передадим функции `find_all()` в качестве аргумента словарь с названием и значением атрибута: "
   ]
  },
  {
   "cell_type": "code",
   "execution_count": 13,
   "metadata": {},
   "outputs": [
    {
     "data": {
      "text/plain": [
       "[<meta content=\"Елизавета Ивтушок\" name=\"author\"/>]"
      ]
     },
     "execution_count": 13,
     "metadata": {},
     "output_type": "execute_result"
    }
   ],
   "source": [
    "soup0.find_all('meta', {'name' : 'author'}) # например, автор"
   ]
  },
  {
   "cell_type": "markdown",
   "metadata": {},
   "source": [
    "Теперь выберем единственный элемент полученного списка (с индексом 0):"
   ]
  },
  {
   "cell_type": "code",
   "execution_count": 14,
   "metadata": {},
   "outputs": [
    {
     "data": {
      "text/plain": [
       "<meta content=\"Елизавета Ивтушок\" name=\"author\"/>"
      ]
     },
     "execution_count": 14,
     "metadata": {},
     "output_type": "execute_result"
    }
   ],
   "source": [
    "soup0.find_all('meta', {'name' : 'author'})[0]"
   ]
  },
  {
   "cell_type": "markdown",
   "metadata": {},
   "source": [
    "Нам нужно вытащить из этого объекта `content` – имя автора. Посмотрим на атрибуты:"
   ]
  },
  {
   "cell_type": "code",
   "execution_count": 15,
   "metadata": {},
   "outputs": [
    {
     "data": {
      "text/plain": [
       "{'name': 'author', 'content': 'Елизавета Ивтушок'}"
      ]
     },
     "execution_count": 15,
     "metadata": {},
     "output_type": "execute_result"
    }
   ],
   "source": [
    "soup0.find_all('meta', {'name' : 'author'})[0].attrs"
   ]
  },
  {
   "cell_type": "markdown",
   "metadata": {},
   "source": [
    "Как получить отсюда `content`? Очень просто, ведь это словарь! А доставать из словаря значение по ключу мы умеем."
   ]
  },
  {
   "cell_type": "code",
   "execution_count": 16,
   "metadata": {},
   "outputs": [
    {
     "data": {
      "text/plain": [
       "'Елизавета Ивтушок'"
      ]
     },
     "execution_count": 16,
     "metadata": {},
     "output_type": "execute_result"
    }
   ],
   "source": [
    "author = soup0.find_all('meta', {'name' : 'author'})[0]['content']\n",
    "author"
   ]
  },
  {
   "cell_type": "markdown",
   "metadata": {},
   "source": [
    "Аналогичным образом извлечем дату, заголовок и описание."
   ]
  },
  {
   "cell_type": "code",
   "execution_count": 17,
   "metadata": {},
   "outputs": [],
   "source": [
    "date = soup0.find_all('meta', {'itemprop' : 'datePublished'})[0]['content']\n",
    "title = soup0.find_all('meta', {'property' : 'og:title'})[0]['content']\n",
    "description = soup0.find_all('meta', {'name' : 'description'})[0]['content']"
   ]
  },
  {
   "cell_type": "markdown",
   "metadata": {},
   "source": [
    "Осталось вытащить рубрики и сложность текста. Если мы посмотрим на исходный код страницы, мы увидим, что нужная нам информация находится в тэгах `<p></p>`:"
   ]
  },
  {
   "cell_type": "code",
   "execution_count": 18,
   "metadata": {},
   "outputs": [
    {
     "data": {
      "text/plain": [
       "[<p class=\"table\">\n",
       " <a data-rubric=\"zoology\" href=\"/rubric/zoology\">Зоология</a>\n",
       " </p>, <p class=\"table\">\n",
       " <a href=\"/news/2020/10/14\">\n",
       " <time content=\"2020-10-14\" data-unix=\"1602689962\" itemprop=\"datePublished\">\n",
       " <span>18:39</span>\n",
       " <span>14 Окт. 2020</span>\n",
       " </time>\n",
       " </a>\n",
       " </p>, <p class=\"table\">\n",
       " <a href=\"/difficult/2.6\">\n",
       " <span>Сложность</span>\n",
       " <span class=\"difficult-value\">2.6</span>\n",
       " </a>\n",
       " </p>, <p class=\"title\"></p>, <p class=\"credits\">Paula Pérez Fraga</p>, <p>Венгерские ученые обнаружили у взрослых волков, выращенных в неволе, стойкую привязанность к своим дрессировщикам. Для этого они проследили за поведением 11 волков, которых оставляли гулять либо со знакомым, либо с незнакомым человеком: на поводке у незнакомца волк чаще рвался в сторону своего дрессировщика, испытывал сильный стресс и меньше исследовал окружающее пространство. Те же результаты ученые получили и для домашних собак. Привязанность к человеку, по-видимому, исходит из привязанности волка к членам его стаи: скорее всего, именно она способствовала успешному одомашниванию на ранних этапах, <a href=\"https://www.nature.com/articles/s41598-020-74325-0\" rel=\"nofollow\" target=\"_blank\" title=\"Link: https://www.nature.com/articles/s41598-020-74325-0\">пишут</a> ученые в журнале <i>Scientific Reports</i>.</p>, <p>На уровне поведения привязанность принято рассматривать как определенную форму предпочтения: так, ее формирование подразумевает, что объект привязанности незаменим, его отсутствие приводит к стрессу, а присутствие, наоборот, позволяет свободно исследовать окружающую среду и даже чувствовать себя защищенным. Исходя из этих параметров, привязанностью можно назвать не только отношения ребенка и родителя, но и двух взрослых людей, а также — человека и его питомца.</p>, <p>К примеру, исследования <a href=\"https://doi.apa.org/doiLanding?doi=10.1037%2F0735-7036.112.3.219\" rel=\"nofollow\" target=\"_blank\" title=\"Link: https://doi.apa.org/doiLanding?doi=10.1037%2F0735-7036.112.3.219\">показывают</a>, что отношения собаки и человека попадают под все определяющие привязанность критерии. Питомцы предпочитают своего хозяина всем остальным людям, спокойнее ведут себя в его присутствии, испытывают стресс и ищут хозяина, если его нет рядом, а когда он появляется — активно приветствуют. </p>, <p>Такая привязанность, с одной стороны, — действительно результат длительного процесса одомашнивания. С другой стороны, успешному одомашниванию собак послужила высокая социализация их предков. С учетом того, что волки могут успешно уживаться с человеком и даже <a href=\"https://nplus1.ru/news/2020/01/17/ball-retrieving-wolves\" target=\"_blank\">слушаться</a> его команд, еще будучи волчатами, можно предположить, что и они способны формировать привязанность к хозяину-дрессировщику.</p>, <p>Чтобы это проверить, ученые под руководством Тамаса Фараго (Tamás Faragó) из Будапештского университета провели эксперимент с участием 11 волков. Животные были старше полутора лет, и их с детства выращивали люди — либо индивидуально, либо вместе с братьями и сестрами. Дополнительно в эксперименте приняли участие девять домашних собак: их использовали для того, чтобы сравнить их поведение и привязанность с волчьими.</p>, <p>В ходе эксперимента волка заводили на лесную тропинку. Поводок держал либо дрессировщик, либо незнакомый человек, который должен был в течение 50 минут гулять с волком после того, как другой с ним попрощается (обязательно так, чтобы волк обратил внимание) и начнет уходить. При этом второй человек все равно был на виду у волка — за исключением трех последних минут прогулки, когда ему необходимо было скрыться за оградой, а затем выйти. Похожий эксперимент проводили с собаками, только вместо лесной тропинки их выводили гулять на парковку.</p>, <p>И волки, и собаки тянули поводок чаще, когда видели, как уходит их дрессировщик или хозяин, а не незнакомый человек (p &lt; 0,001), и в их отсутствии испытывали сильный стресс (скулили и беспокоились), но волки со временем привыкли к незнакомому человеку и выражали стресс меньше. Кроме того, и собаки, и волки в присутствии хозяина больше (p &lt; 0,001) исследовали окружающую среду. </p>, <p>Волки, таким образом, в действительности сформировали привязанность к своим дрессировщикам подобно тому, как собаки привязались к хозяевам: их поведение при разлуке было очень похожим. Исходя из этого, авторы предположили, что привязанность волка к человеку исходит из способности привязываться к другим членам стаи: возможно, на ранних этапах одомашнивания волки направили свою привязанность на человека, в результате чего сам процесс оказался эффективным. </p>, <p>Недавно ученые при участии Фараго также <a href=\"https://nplus1.ru/news/2020/09/10/wolves-and-dogs\" target=\"_blank\">выяснили</a>, что выращенные в тесном контакте с человеком волки менее сговорчивы по сравнению с домашними собаками: они реже отдают мячик по просьбе человека и хуже терпят почесывания.</p>, <p><i>Елизавета Ивтушок</i></p>, <p>Нашли опечатку? Выделите фрагмент и нажмите Ctrl+Enter.</p>, <p class=\"subtitle\">История о том, как мы RFID-замок взломать пытались</p>, <p>Коэффициент сложности</p>, <p>Коэффициент сложности</p>, <p>Коэффициент сложности</p>, <p>Коэффициент сложности</p>, <p>Коэффициент сложности</p>, <p>Коэффициент сложности</p>, <p>Коэффициент сложности</p>, <p>Коэффициент сложности</p>, <p>Коэффициент сложности</p>, <p>Коэффициент сложности</p>, <p>© 2020 N+1 Интернет-издание   Свидетельство о регистрации СМИ Эл № ФС77-67614</p>, <p>Использование всех текстовых материалов без изменений в некоммерческих целях разрешается со ссылкой на N+1. \n",
       "                         Все аудиовизуальные произведения являются собственностью своих авторов и правообладателей и используются \n",
       "                         только в образовательных и информационных целях. Если вы являетесь собственником того или иного произведения \n",
       "                         и не согласны с его размещением на нашем сайте, пожалуйста, напишите на kirill@nplus1.ru</p>, <p>Материалы, опубликованные в разделе «Блоги», отражают позиции их авторов, которые могут не совпадать с мнением редакции.</p>, <p>Сайт может содержать контент, не предназначенный для лиц младше 18 лет.</p>, <p>\n",
       " <a class=\"pd\" href=\"https://nplus1.ru/personal-data-policy\">Политика обработки персональных данных пользователей сайта</a>\n",
       " </p>, <p>\n",
       " <script async=\"\" src=\"//s.luxupcdnc.com/t/consent_195458.js\" type=\"text/javascript\"></script>\n",
       " <a href=\"#\" onclick=\"if(window.__lxG__consent__ !== undefined) {window.__lxG__consent__.showConsent()} else {alert('This function works only for users from the European Economic Area (EEA).')}; return false\">Change privacy settings</a>\n",
       " </p>, <p>\n",
       " </p>]"
      ]
     },
     "execution_count": 18,
     "metadata": {},
     "output_type": "execute_result"
    }
   ],
   "source": [
    "soup0.find_all('p')"
   ]
  },
  {
   "cell_type": "markdown",
   "metadata": {},
   "source": [
    "Выберем из полученного списка первый элемент и найдем в нем все тэги `<a>`:"
   ]
  },
  {
   "cell_type": "code",
   "execution_count": 19,
   "metadata": {},
   "outputs": [
    {
     "data": {
      "text/plain": [
       "[<a data-rubric=\"zoology\" href=\"/rubric/zoology\">Зоология</a>]"
      ]
     },
     "execution_count": 19,
     "metadata": {},
     "output_type": "execute_result"
    }
   ],
   "source": [
    "soup0.find_all('p')[0].find_all('a')"
   ]
  },
  {
   "cell_type": "markdown",
   "metadata": {},
   "source": [
    "Получился список из одного элемента. Применим списковые включения – вытащим из каждого элемента (их могло бы быть больше) текст и поместим его в новый список `rubrics`."
   ]
  },
  {
   "cell_type": "code",
   "execution_count": 20,
   "metadata": {},
   "outputs": [
    {
     "data": {
      "text/plain": [
       "['Зоология']"
      ]
     },
     "execution_count": 20,
     "metadata": {},
     "output_type": "execute_result"
    }
   ],
   "source": [
    "rubrics = [r.text for r in soup0.find_all('p')[0].find_all('a')]\n",
    "rubrics"
   ]
  },
  {
   "cell_type": "markdown",
   "metadata": {},
   "source": [
    "Осталась только сложность. Возьмем соответствующий кусок кода:"
   ]
  },
  {
   "cell_type": "code",
   "execution_count": 21,
   "metadata": {},
   "outputs": [
    {
     "data": {
      "text/plain": [
       "[<span class=\"difficult-value\">2.6</span>]"
      ]
     },
     "execution_count": 21,
     "metadata": {},
     "output_type": "execute_result"
    }
   ],
   "source": [
    "soup0.find_all('span', {'class' : 'difficult-value'})"
   ]
  },
  {
   "cell_type": "markdown",
   "metadata": {},
   "source": [
    "И выберем оттуда текст."
   ]
  },
  {
   "cell_type": "code",
   "execution_count": 22,
   "metadata": {},
   "outputs": [
    {
     "data": {
      "text/plain": [
       "'2.6'"
      ]
     },
     "execution_count": 22,
     "metadata": {},
     "output_type": "execute_result"
    }
   ],
   "source": [
    "diff = soup0.find_all('span', {'class' : 'difficult-value'})[0].text\n",
    "diff"
   ]
  },
  {
   "cell_type": "markdown",
   "metadata": {},
   "source": [
    "Теперь перейдем к тексту самой новости. Как можно заметить, текст сохранен в абзацах `<p></p>`, причем безо всяких атрибутов. Сообщим Python, что нас интересуют куски с пустым атрибутом `class`:"
   ]
  },
  {
   "cell_type": "code",
   "execution_count": 23,
   "metadata": {},
   "outputs": [],
   "source": [
    "text_list = soup0.find_all('p', {'class' : None})"
   ]
  },
  {
   "cell_type": "markdown",
   "metadata": {},
   "source": [
    "«Выцепим» все тексты (без тэгов) из полученного списка:"
   ]
  },
  {
   "cell_type": "code",
   "execution_count": 24,
   "metadata": {},
   "outputs": [],
   "source": [
    "text = [t.text for t in text_list]"
   ]
  },
  {
   "cell_type": "markdown",
   "metadata": {},
   "source": [
    "Склеим все элементы списка `text` через пробел:"
   ]
  },
  {
   "cell_type": "code",
   "execution_count": 25,
   "metadata": {},
   "outputs": [
    {
     "data": {
      "text/plain": [
       "'Венгерские ученые обнаружили у взрослых волков, выращенных в неволе, стойкую привязанность к своим дрессировщикам. Для этого они проследили за поведением 11 волков, которых оставляли гулять либо со знакомым, либо с незнакомым человеком: на поводке у незнакомца волк чаще рвался в сторону своего дрессировщика, испытывал сильный стресс и меньше исследовал окружающее пространство. Те же результаты ученые получили и для домашних собак. Привязанность к человеку, по-видимому, исходит из привязанности волка к членам его стаи: скорее всего,\\xa0именно она способствовала успешному одомашниванию на ранних этапах, пишут ученые\\xa0в журнале Scientific Reports. На уровне поведения привязанность принято рассматривать как определенную форму предпочтения: так, ее формирование подразумевает, что объект привязанности незаменим, его отсутствие приводит к стрессу, а присутствие, наоборот, позволяет свободно исследовать окружающую среду и даже чувствовать себя защищенным. Исходя из этих параметров, привязанностью можно назвать не только отношения ребенка и родителя, но и двух взрослых людей, а также — человека и его питомца. К примеру, исследования показывают, что отношения собаки и человека попадают под все определяющие привязанность критерии. Питомцы предпочитают своего хозяина всем остальным людям, спокойнее ведут себя в его присутствии, испытывают стресс и ищут хозяина, если его нет рядом, а когда он появляется — активно приветствуют.\\xa0 Такая привязанность, с одной стороны, — действительно результат длительного процесса одомашнивания. С другой стороны, успешному одомашниванию собак послужила высокая социализация их предков. С учетом того, что волки могут успешно уживаться с человеком и даже слушаться его команд, еще будучи волчатами, можно предположить, что и они способны формировать привязанность к хозяину-дрессировщику. Чтобы это проверить, ученые под руководством Тамаса Фараго (Tamás Faragó) из Будапештского университета провели эксперимент с участием 11 волков. Животные были старше полутора лет, и их с детства выращивали люди — либо индивидуально, либо вместе с братьями и сестрами. Дополнительно в эксперименте приняли участие девять домашних собак: их использовали для того, чтобы сравнить их поведение и привязанность с волчьими. В ходе эксперимента волка заводили на лесную тропинку. Поводок держал либо дрессировщик, либо незнакомый человек, который должен был в течение 50 минут гулять с волком после того, как другой с ним попрощается (обязательно так, чтобы волк обратил внимание) и начнет уходить. При этом второй человек все равно был на виду у волка — за исключением трех последних минут прогулки, когда ему необходимо было скрыться за оградой, а затем выйти. Похожий эксперимент проводили с собаками, только вместо лесной тропинки их выводили гулять на парковку. И волки, и собаки тянули поводок чаще, когда видели, как уходит их дрессировщик или хозяин, а не незнакомый человек (p < 0,001), и в их отсутствии испытывали сильный стресс (скулили и беспокоились), но волки со временем привыкли к незнакомому человеку и выражали стресс меньше. Кроме того, и собаки, и волки в присутствии хозяина больше (p < 0,001) исследовали окружающую среду.\\xa0 Волки, таким образом, в действительности сформировали привязанность к своим дрессировщикам подобно тому, как собаки привязались к хозяевам: их поведение при разлуке было очень похожим. Исходя из этого, авторы предположили, что привязанность волка к человеку исходит из способности привязываться к другим членам стаи: возможно, на ранних этапах одомашнивания волки направили свою привязанность на человека, в результате чего сам процесс оказался эффективным.\\xa0 Недавно ученые при участии Фараго также выяснили, что выращенные в тесном контакте с человеком волки менее сговорчивы по сравнению с домашними собаками: они реже отдают мячик по просьбе человека и хуже терпят почесывания. Елизавета Ивтушок Нашли опечатку? Выделите фрагмент и нажмите Ctrl+Enter. Коэффициент сложности Коэффициент сложности Коэффициент сложности Коэффициент сложности Коэффициент сложности Коэффициент сложности Коэффициент сложности Коэффициент сложности Коэффициент сложности Коэффициент сложности © 2020 N+1 Интернет-издание \\xa0 Свидетельство о регистрации СМИ Эл № ФС77-67614 Использование всех текстовых материалов без изменений в некоммерческих целях разрешается со ссылкой на N+1. \\n                        Все аудиовизуальные произведения являются собственностью своих авторов и правообладателей и используются \\n                        только в образовательных и информационных целях. Если вы являетесь собственником того или иного произведения \\n                        и не согласны с его размещением на нашем сайте, пожалуйста, напишите на kirill@nplus1.ru Материалы, опубликованные в разделе «Блоги», отражают позиции их авторов, которые могут не совпадать с мнением редакции. Сайт может содержать контент, не предназначенный для лиц младше 18 лет. \\nПолитика обработки персональных данных пользователей сайта\\n \\n\\nChange privacy settings\\n \\n'"
      ]
     },
     "execution_count": 25,
     "metadata": {},
     "output_type": "execute_result"
    }
   ],
   "source": [
    "final_text = ' '.join(text)\n",
    "final_text"
   ]
  },
  {
   "cell_type": "markdown",
   "metadata": {},
   "source": [
    "Все здорово, только мешают отступы-переходы на новую строку `\\n`. Заменим их на пробелы с помощью метода `.replace`:"
   ]
  },
  {
   "cell_type": "code",
   "execution_count": 26,
   "metadata": {},
   "outputs": [],
   "source": [
    "final_text = final_text.replace('\\n', ' ')"
   ]
  },
  {
   "cell_type": "markdown",
   "metadata": {},
   "source": [
    "Не прошло и двух пар, как мы разобрались со всем :) Теперь осталось совсем чуть-чуть. Написать готовую функцию для всех проделанных нами действий и применить ее в цикле для всех ссылок в списке `full_urls`. Напишем! Аргументом функции будет ссылка на новость, а возвращать она будет текст новости и всю необходимую информацию (дата, автор, сложность и проч.). Скопируем все строки кода выше."
   ]
  },
  {
   "cell_type": "code",
   "execution_count": 27,
   "metadata": {},
   "outputs": [],
   "source": [
    "def GetNews(url0):\n",
    "    \"\"\"\n",
    "    Returns a tuple with url0, date, author, description, title, final_text, rubrics, diff.\n",
    "    Parameters:\n",
    "    \n",
    "    url0 is a link to the news (string)\n",
    "    \"\"\"\n",
    "    page0 = requests.get(url0)\n",
    "    soup0 = BeautifulSoup(page0.text, 'lxml')\n",
    "    author = soup0.find_all('meta', {'name' : 'author'})[0].attrs['content']\n",
    "    date = soup0.find_all('meta', {'itemprop' : 'datePublished'})[0].attrs['content']\n",
    "    title = soup0.find_all('meta', {'property' : 'og:title'})[0].attrs['content']\n",
    "    description = soup0.find_all('meta', {'name' : 'description'})[0].attrs['content']\n",
    "    rubrics = [r.text for r in soup0.find_all('p')[0].find_all('a')]\n",
    "    diff = soup0.find_all('span', {'class' : 'difficult-value'})[0].text\n",
    "    text_list = soup0.find_all('p', {'class' : None})\n",
    "    text = [t.text for t in text_list]\n",
    "    final_text = ' '.join(text)\n",
    "    final_text = final_text.replace('\\n', ' ')\n",
    "    \n",
    "    return url0, date, author, description, title, final_text, rubrics, diff"
   ]
  },
  {
   "cell_type": "markdown",
   "metadata": {},
   "source": [
    "Уфф. Осталось применить ее в цикле. Но давайте не будем спешить: импортируем функцию `sleep` для задержки, чтобы на каждой итерации цикла, прежде чем перейти к следующей новости, Python ждал несколько секунд. Во-первых, это нужно, чтобы сайт «не понял», чтобы мы его грабим, да еще автоматически. Во-вторых, с небольшой задержкой всегда есть гарантия, что страница прогрузится (сейчас это пока не очень важно, но особенно актуально будет, если будем обсуждать встраивание в браузер с Selenium). Приступим."
   ]
  },
  {
   "cell_type": "code",
   "execution_count": 28,
   "metadata": {},
   "outputs": [],
   "source": [
    "from time import sleep"
   ]
  },
  {
   "cell_type": "code",
   "execution_count": 29,
   "metadata": {},
   "outputs": [],
   "source": [
    "news = [] # это будет список из кортежей, в которых будут храниться данные по каждой новости\n",
    "\n",
    "for link in full_urls:\n",
    "    res = GetNews(link)\n",
    "    news.append(res)\n",
    "    sleep(3) # задержка в 3 секунды"
   ]
  },
  {
   "cell_type": "markdown",
   "metadata": {},
   "source": [
    "Так теперь выглядит первый элемент списка:"
   ]
  },
  {
   "cell_type": "code",
   "execution_count": 30,
   "metadata": {},
   "outputs": [
    {
     "data": {
      "text/plain": [
       "('https://nplus1.ru/news/2020/10/14/silver-electronics',\n",
       " '2020-10-14',\n",
       " 'Григорий Копиев',\n",
       " 'Это позволяет создавать на коже устойчивые датчики',\n",
       " 'Серебряные электроды спеклись на коже при комнатной температуре',\n",
       " 'Китайские и\\xa0американские ученые разработали метод нанесения и\\xa0спекания тонких серебряных электродов прямо на\\xa0коже при комнатной температуре. Им\\xa0удалось достичь этого благодаря вспомогательному слою, который увеличивает зернограничную диффузию и\\xa0тем самым снижает температуру спекания серебряных наночастиц. После нанесения электродов к\\xa0ним можно подключить считывающую электронику и\\xa0использовать в\\xa0качестве носимого устройства, рассказывают авторы статьи в\\xa0ACS Applied Materials &\\xa0Interfaces. Уже не\\xa0первый год ученые и\\xa0исследователи экспериментируют с\\xa0электронными устройствами, тем или иным образом наносимыми прямо на\\xa0кожу человека. Это позволяет создавать на\\xa0коже проводящие (а\\xa0зачастую и\\xa0весьма красивые) узоры, используемые для передачи сигнала или в\\xa0качестве сенсорных панелей. Первые подобные работы основывались на\\xa0подложках, наклеиваемых на\\xa0кожу, а\\xa0в\\xa0последнее время все чаще используется прямое нанесение с\\xa0помощью 3D-принтера. Изначально основная проблема с\\xa0этим способом заключалась в\\xa0том, что человеку трудно несколько минут держать руку или другую часть тела абсолютно неподвижной, а\\xa0если рука двигается, то\\xa0реально печатаемый узор отличается от\\xa0запланированного. В\\xa0последних работах эту проблему уже решили с\\xa0помощью отслеживания и\\xa0компенсации движения руки и даже с\\xa0помощью закрепления принтера прямо на\\xa0руке. Но\\xa0пока не\\xa0решена проблема с\\xa0самим материалом печати: в\\xa0текущих разработках используются вязкие электропроводные пасты и\\xa0гидрогели, не\\xa0стойкие к\\xa0мытью или механическим воздействиям, а\\xa0спекать металлические частицы на\\xa0руке неприемлемо из-за высокой температуры. Ученые под руководством Хуаньюя Чэна (Huanyu Cheng) из\\xa0Харбинского политехнического института и\\xa0Университета штата Пенсильвания разработали новый метод нанесения серебряных проводящих дорожек на\\xa0кожу с\\xa0последующим спеканием при комнатной температуре, потенциально применимый для 3D-печати.   После нанесения материалов узор желательно высушить феном в\\xa0течение 30\\xa0секунд, а\\xa0снять его можно, промыв горячей водой (от\\xa060\\xa0градусов Цельсия и\\xa0выше). Авторы исследования показали несколько применений метода, создав датчик температуры, работающий благодаря изменению проводимости серебряных проводящих дорожек, и\\xa0датчик влажности. Также они создали на\\xa0кисти руки пульсоксиметрический датчик с\\xa0двумя светодиодами и\\xa0одним фотодиодом, соединенными с\\xa0помощью серебряных электродов. Недавно китайские ученые создали биопринтер-эндоскоп, который способен в\\xa0сложенном состоянии проникать в\\xa0желудок, раскладываться и\\xa0печать на\\xa0стенках органа «заплатки» из\\xa0гидрогелей с\\xa0живыми клетками. Григорий Копиев Нашли опечатку? Выделите фрагмент и нажмите Ctrl+Enter. Коэффициент сложности Коэффициент сложности Коэффициент сложности Коэффициент сложности Коэффициент сложности Коэффициент сложности Коэффициент сложности Коэффициент сложности Коэффициент сложности Коэффициент сложности © 2020 N+1 Интернет-издание \\xa0 Свидетельство о регистрации СМИ Эл № ФС77-67614 Использование всех текстовых материалов без изменений в некоммерческих целях разрешается со ссылкой на N+1.                          Все аудиовизуальные произведения являются собственностью своих авторов и правообладателей и используются                          только в образовательных и информационных целях. Если вы являетесь собственником того или иного произведения                          и не согласны с его размещением на нашем сайте, пожалуйста, напишите на kirill@nplus1.ru Материалы, опубликованные в разделе «Блоги», отражают позиции их авторов, которые могут не совпадать с мнением редакции. Сайт может содержать контент, не предназначенный для лиц младше 18 лет.  Политика обработки персональных данных пользователей сайта    Change privacy settings   ',\n",
       " ['Материалы'],\n",
       " '3.7')"
      ]
     },
     "execution_count": 30,
     "metadata": {},
     "output_type": "execute_result"
    }
   ],
   "source": [
    "news[0]"
   ]
  },
  {
   "cell_type": "markdown",
   "metadata": {},
   "source": [
    "Импортируем `pandas` и создадим датафрейм из списка кортежей: "
   ]
  },
  {
   "cell_type": "code",
   "execution_count": 31,
   "metadata": {},
   "outputs": [],
   "source": [
    "import pandas as pd"
   ]
  },
  {
   "cell_type": "code",
   "execution_count": 32,
   "metadata": {},
   "outputs": [],
   "source": [
    "df = pd.DataFrame(news)"
   ]
  },
  {
   "cell_type": "code",
   "execution_count": 33,
   "metadata": {},
   "outputs": [
    {
     "data": {
      "text/html": [
       "<div>\n",
       "<style scoped>\n",
       "    .dataframe tbody tr th:only-of-type {\n",
       "        vertical-align: middle;\n",
       "    }\n",
       "\n",
       "    .dataframe tbody tr th {\n",
       "        vertical-align: top;\n",
       "    }\n",
       "\n",
       "    .dataframe thead th {\n",
       "        text-align: right;\n",
       "    }\n",
       "</style>\n",
       "<table border=\"1\" class=\"dataframe\">\n",
       "  <thead>\n",
       "    <tr style=\"text-align: right;\">\n",
       "      <th></th>\n",
       "      <th>0</th>\n",
       "      <th>1</th>\n",
       "      <th>2</th>\n",
       "      <th>3</th>\n",
       "      <th>4</th>\n",
       "      <th>5</th>\n",
       "      <th>6</th>\n",
       "      <th>7</th>\n",
       "    </tr>\n",
       "  </thead>\n",
       "  <tbody>\n",
       "    <tr>\n",
       "      <td>0</td>\n",
       "      <td>https://nplus1.ru/news/2020/10/14/silver-elect...</td>\n",
       "      <td>2020-10-14</td>\n",
       "      <td>Григорий Копиев</td>\n",
       "      <td>Это позволяет создавать на коже устойчивые дат...</td>\n",
       "      <td>Серебряные электроды спеклись на коже при комн...</td>\n",
       "      <td>Китайские и американские ученые разработали ме...</td>\n",
       "      <td>[Материалы]</td>\n",
       "      <td>3.7</td>\n",
       "    </tr>\n",
       "    <tr>\n",
       "      <td>1</td>\n",
       "      <td>https://nplus1.ru/news/2020/10/14/wolves-attac...</td>\n",
       "      <td>2020-10-14</td>\n",
       "      <td>Елизавета Ивтушок</td>\n",
       "      <td>Если волка оставить на поводке у незнакомца, о...</td>\n",
       "      <td>Волки привязались к дрессировщикам</td>\n",
       "      <td>Венгерские ученые обнаружили у взрослых волков...</td>\n",
       "      <td>[Зоология]</td>\n",
       "      <td>2.6</td>\n",
       "    </tr>\n",
       "  </tbody>\n",
       "</table>\n",
       "</div>"
      ],
      "text/plain": [
       "                                                   0           1  \\\n",
       "0  https://nplus1.ru/news/2020/10/14/silver-elect...  2020-10-14   \n",
       "1  https://nplus1.ru/news/2020/10/14/wolves-attac...  2020-10-14   \n",
       "\n",
       "                   2                                                  3  \\\n",
       "0    Григорий Копиев  Это позволяет создавать на коже устойчивые дат...   \n",
       "1  Елизавета Ивтушок  Если волка оставить на поводке у незнакомца, о...   \n",
       "\n",
       "                                                   4  \\\n",
       "0  Серебряные электроды спеклись на коже при комн...   \n",
       "1                 Волки привязались к дрессировщикам   \n",
       "\n",
       "                                                   5            6    7  \n",
       "0  Китайские и американские ученые разработали ме...  [Материалы]  3.7  \n",
       "1  Венгерские ученые обнаружили у взрослых волков...   [Зоология]  2.6  "
      ]
     },
     "execution_count": 33,
     "metadata": {},
     "output_type": "execute_result"
    }
   ],
   "source": [
    "df.head(2)"
   ]
  },
  {
   "cell_type": "markdown",
   "metadata": {},
   "source": [
    "Переименуем столбцы в базе."
   ]
  },
  {
   "cell_type": "code",
   "execution_count": 34,
   "metadata": {},
   "outputs": [],
   "source": [
    "df.columns = ['link', 'date', 'author', 'desc', 'title', 'text', 'rubric', 'diffc']"
   ]
  },
  {
   "cell_type": "code",
   "execution_count": 35,
   "metadata": {},
   "outputs": [
    {
     "data": {
      "text/html": [
       "<div>\n",
       "<style scoped>\n",
       "    .dataframe tbody tr th:only-of-type {\n",
       "        vertical-align: middle;\n",
       "    }\n",
       "\n",
       "    .dataframe tbody tr th {\n",
       "        vertical-align: top;\n",
       "    }\n",
       "\n",
       "    .dataframe thead th {\n",
       "        text-align: right;\n",
       "    }\n",
       "</style>\n",
       "<table border=\"1\" class=\"dataframe\">\n",
       "  <thead>\n",
       "    <tr style=\"text-align: right;\">\n",
       "      <th></th>\n",
       "      <th>link</th>\n",
       "      <th>date</th>\n",
       "      <th>author</th>\n",
       "      <th>desc</th>\n",
       "      <th>title</th>\n",
       "      <th>text</th>\n",
       "      <th>rubric</th>\n",
       "      <th>diffc</th>\n",
       "    </tr>\n",
       "  </thead>\n",
       "  <tbody>\n",
       "    <tr>\n",
       "      <td>0</td>\n",
       "      <td>https://nplus1.ru/news/2020/10/14/silver-elect...</td>\n",
       "      <td>2020-10-14</td>\n",
       "      <td>Григорий Копиев</td>\n",
       "      <td>Это позволяет создавать на коже устойчивые дат...</td>\n",
       "      <td>Серебряные электроды спеклись на коже при комн...</td>\n",
       "      <td>Китайские и американские ученые разработали ме...</td>\n",
       "      <td>[Материалы]</td>\n",
       "      <td>3.7</td>\n",
       "    </tr>\n",
       "    <tr>\n",
       "      <td>1</td>\n",
       "      <td>https://nplus1.ru/news/2020/10/14/wolves-attac...</td>\n",
       "      <td>2020-10-14</td>\n",
       "      <td>Елизавета Ивтушок</td>\n",
       "      <td>Если волка оставить на поводке у незнакомца, о...</td>\n",
       "      <td>Волки привязались к дрессировщикам</td>\n",
       "      <td>Венгерские ученые обнаружили у взрослых волков...</td>\n",
       "      <td>[Зоология]</td>\n",
       "      <td>2.6</td>\n",
       "    </tr>\n",
       "  </tbody>\n",
       "</table>\n",
       "</div>"
      ],
      "text/plain": [
       "                                                link        date  \\\n",
       "0  https://nplus1.ru/news/2020/10/14/silver-elect...  2020-10-14   \n",
       "1  https://nplus1.ru/news/2020/10/14/wolves-attac...  2020-10-14   \n",
       "\n",
       "              author                                               desc  \\\n",
       "0    Григорий Копиев  Это позволяет создавать на коже устойчивые дат...   \n",
       "1  Елизавета Ивтушок  Если волка оставить на поводке у незнакомца, о...   \n",
       "\n",
       "                                               title  \\\n",
       "0  Серебряные электроды спеклись на коже при комн...   \n",
       "1                 Волки привязались к дрессировщикам   \n",
       "\n",
       "                                                text       rubric diffc  \n",
       "0  Китайские и американские ученые разработали ме...  [Материалы]   3.7  \n",
       "1  Венгерские ученые обнаружили у взрослых волков...   [Зоология]   2.6  "
      ]
     },
     "execution_count": 35,
     "metadata": {},
     "output_type": "execute_result"
    }
   ],
   "source": [
    "df.head(2)"
   ]
  },
  {
   "cell_type": "markdown",
   "metadata": {},
   "source": [
    "Теперь внесем изменения: сделаем столбец `diffc` числовым – типа *float*."
   ]
  },
  {
   "cell_type": "code",
   "execution_count": 37,
   "metadata": {},
   "outputs": [],
   "source": [
    "df['diffc'] = df['diffc'].astype(float)"
   ]
  },
  {
   "cell_type": "markdown",
   "metadata": {},
   "source": [
    "Теперь сложность представлена в базе как количественный показатель, и описывать ее можно соответствующим образом:"
   ]
  },
  {
   "cell_type": "code",
   "execution_count": 38,
   "metadata": {},
   "outputs": [
    {
     "data": {
      "text/plain": [
       "count    27.000000\n",
       "mean      3.666667\n",
       "std       1.621490\n",
       "min       1.300000\n",
       "25%       2.450000\n",
       "50%       3.400000\n",
       "75%       5.100000\n",
       "max       7.200000\n",
       "Name: diffc, dtype: float64"
      ]
     },
     "execution_count": 38,
     "metadata": {},
     "output_type": "execute_result"
    }
   ],
   "source": [
    "df.diffc.describe()"
   ]
  },
  {
   "cell_type": "markdown",
   "metadata": {},
   "source": [
    "Теперь столбец со сложностью точно числовой. Можем даже построить для него гистограмму."
   ]
  },
  {
   "cell_type": "code",
   "execution_count": 39,
   "metadata": {},
   "outputs": [
    {
     "data": {
      "text/plain": [
       "<matplotlib.axes._subplots.AxesSubplot at 0x1220831d0>"
      ]
     },
     "execution_count": 39,
     "metadata": {},
     "output_type": "execute_result"
    },
    {
     "data": {
      "image/png": "[encoded data removed]",
      "text/plain": [
       "<Figure size 432x288 with 1 Axes>"
      ]
     },
     "metadata": {
      "needs_background": "light"
     },
     "output_type": "display_data"
    }
   ],
   "source": [
    "%matplotlib inline\n",
    "df.diffc.plot.hist()"
   ]
  },
  {
   "cell_type": "markdown",
   "metadata": {},
   "source": [
    "Объединим рубрики в *text* в одну строку через запятую:"
   ]
  },
  {
   "cell_type": "code",
   "execution_count": 40,
   "metadata": {},
   "outputs": [],
   "source": [
    "df['rubric'] = [','.join(r) for r in df.rubric]"
   ]
  },
  {
   "cell_type": "markdown",
   "metadata": {},
   "source": [
    "Давайте почистим текст новостей – уберем оттуда текст, не относящийся к новостям. Найдем лишнее:"
   ]
  },
  {
   "cell_type": "code",
   "execution_count": 41,
   "metadata": {},
   "outputs": [
    {
     "data": {
      "text/plain": [
       "'Китайские и\\xa0американские ученые разработали метод нанесения и\\xa0спекания тонких серебряных электродов прямо на\\xa0коже при комнатной температуре. Им\\xa0удалось достичь этого благодаря вспомогательному слою, который увеличивает зернограничную диффузию и\\xa0тем самым снижает температуру спекания серебряных наночастиц. После нанесения электродов к\\xa0ним можно подключить считывающую электронику и\\xa0использовать в\\xa0качестве носимого устройства, рассказывают авторы статьи в\\xa0ACS Applied Materials &\\xa0Interfaces. Уже не\\xa0первый год ученые и\\xa0исследователи экспериментируют с\\xa0электронными устройствами, тем или иным образом наносимыми прямо на\\xa0кожу человека. Это позволяет создавать на\\xa0коже проводящие (а\\xa0зачастую и\\xa0весьма красивые) узоры, используемые для передачи сигнала или в\\xa0качестве сенсорных панелей. Первые подобные работы основывались на\\xa0подложках, наклеиваемых на\\xa0кожу, а\\xa0в\\xa0последнее время все чаще используется прямое нанесение с\\xa0помощью 3D-принтера. Изначально основная проблема с\\xa0этим способом заключалась в\\xa0том, что человеку трудно несколько минут держать руку или другую часть тела абсолютно неподвижной, а\\xa0если рука двигается, то\\xa0реально печатаемый узор отличается от\\xa0запланированного. В\\xa0последних работах эту проблему уже решили с\\xa0помощью отслеживания и\\xa0компенсации движения руки и даже с\\xa0помощью закрепления принтера прямо на\\xa0руке. Но\\xa0пока не\\xa0решена проблема с\\xa0самим материалом печати: в\\xa0текущих разработках используются вязкие электропроводные пасты и\\xa0гидрогели, не\\xa0стойкие к\\xa0мытью или механическим воздействиям, а\\xa0спекать металлические частицы на\\xa0руке неприемлемо из-за высокой температуры. Ученые под руководством Хуаньюя Чэна (Huanyu Cheng) из\\xa0Харбинского политехнического института и\\xa0Университета штата Пенсильвания разработали новый метод нанесения серебряных проводящих дорожек на\\xa0кожу с\\xa0последующим спеканием при комнатной температуре, потенциально применимый для 3D-печати.   После нанесения материалов узор желательно высушить феном в\\xa0течение 30\\xa0секунд, а\\xa0снять его можно, промыв горячей водой (от\\xa060\\xa0градусов Цельсия и\\xa0выше). Авторы исследования показали несколько применений метода, создав датчик температуры, работающий благодаря изменению проводимости серебряных проводящих дорожек, и\\xa0датчик влажности. Также они создали на\\xa0кисти руки пульсоксиметрический датчик с\\xa0двумя светодиодами и\\xa0одним фотодиодом, соединенными с\\xa0помощью серебряных электродов. Недавно китайские ученые создали биопринтер-эндоскоп, который способен в\\xa0сложенном состоянии проникать в\\xa0желудок, раскладываться и\\xa0печать на\\xa0стенках органа «заплатки» из\\xa0гидрогелей с\\xa0живыми клетками. Григорий Копиев Нашли опечатку? Выделите фрагмент и нажмите Ctrl+Enter. Коэффициент сложности Коэффициент сложности Коэффициент сложности Коэффициент сложности Коэффициент сложности Коэффициент сложности Коэффициент сложности Коэффициент сложности Коэффициент сложности Коэффициент сложности © 2020 N+1 Интернет-издание \\xa0 Свидетельство о регистрации СМИ Эл № ФС77-67614 Использование всех текстовых материалов без изменений в некоммерческих целях разрешается со ссылкой на N+1.                          Все аудиовизуальные произведения являются собственностью своих авторов и правообладателей и используются                          только в образовательных и информационных целях. Если вы являетесь собственником того или иного произведения                          и не согласны с его размещением на нашем сайте, пожалуйста, напишите на kirill@nplus1.ru Материалы, опубликованные в разделе «Блоги», отражают позиции их авторов, которые могут не совпадать с мнением редакции. Сайт может содержать контент, не предназначенный для лиц младше 18 лет.  Политика обработки персональных данных пользователей сайта    Change privacy settings   '"
      ]
     },
     "execution_count": 41,
     "metadata": {},
     "output_type": "execute_result"
    }
   ],
   "source": [
    "df.text[0]"
   ]
  },
  {
   "cell_type": "markdown",
   "metadata": {},
   "source": [
    "Лишний текст находится после фразы 'Нашли опечатку?'. Так давайте будем разбивать строки по этой фразе с помощью метода `.split()` и брать все, что до нее (элемент с индексом 0)."
   ]
  },
  {
   "cell_type": "code",
   "execution_count": 42,
   "metadata": {},
   "outputs": [],
   "source": [
    "df['clean_text'] = [t.split('Нашли опечатку?')[0] for t in df.text]"
   ]
  },
  {
   "cell_type": "markdown",
   "metadata": {},
   "source": [
    "Осталось только заменить непонятные символы `\\xa0` на пробелы:"
   ]
  },
  {
   "cell_type": "code",
   "execution_count": 43,
   "metadata": {},
   "outputs": [],
   "source": [
    "df['clean_text'] = [t.replace(\"\\xa0\", \" \") for t in df.clean_text]"
   ]
  },
  {
   "cell_type": "code",
   "execution_count": 44,
   "metadata": {},
   "outputs": [
    {
     "data": {
      "text/plain": [
       "'Китайские и американские ученые разработали метод нанесения и спекания тонких серебряных электродов прямо на коже при комнатной температуре. Им удалось достичь этого благодаря вспомогательному слою, который увеличивает зернограничную диффузию и тем самым снижает температуру спекания серебряных наночастиц. После нанесения электродов к ним можно подключить считывающую электронику и использовать в качестве носимого устройства, рассказывают авторы статьи в ACS Applied Materials & Interfaces. Уже не первый год ученые и исследователи экспериментируют с электронными устройствами, тем или иным образом наносимыми прямо на кожу человека. Это позволяет создавать на коже проводящие (а зачастую и весьма красивые) узоры, используемые для передачи сигнала или в качестве сенсорных панелей. Первые подобные работы основывались на подложках, наклеиваемых на кожу, а в последнее время все чаще используется прямое нанесение с помощью 3D-принтера. Изначально основная проблема с этим способом заключалась в том, что человеку трудно несколько минут держать руку или другую часть тела абсолютно неподвижной, а если рука двигается, то реально печатаемый узор отличается от запланированного. В последних работах эту проблему уже решили с помощью отслеживания и компенсации движения руки и даже с помощью закрепления принтера прямо на руке. Но пока не решена проблема с самим материалом печати: в текущих разработках используются вязкие электропроводные пасты и гидрогели, не стойкие к мытью или механическим воздействиям, а спекать металлические частицы на руке неприемлемо из-за высокой температуры. Ученые под руководством Хуаньюя Чэна (Huanyu Cheng) из Харбинского политехнического института и Университета штата Пенсильвания разработали новый метод нанесения серебряных проводящих дорожек на кожу с последующим спеканием при комнатной температуре, потенциально применимый для 3D-печати.   После нанесения материалов узор желательно высушить феном в течение 30 секунд, а снять его можно, промыв горячей водой (от 60 градусов Цельсия и выше). Авторы исследования показали несколько применений метода, создав датчик температуры, работающий благодаря изменению проводимости серебряных проводящих дорожек, и датчик влажности. Также они создали на кисти руки пульсоксиметрический датчик с двумя светодиодами и одним фотодиодом, соединенными с помощью серебряных электродов. Недавно китайские ученые создали биопринтер-эндоскоп, который способен в сложенном состоянии проникать в желудок, раскладываться и печать на стенках органа «заплатки» из гидрогелей с живыми клетками. Григорий Копиев '"
      ]
     },
     "execution_count": 44,
     "metadata": {},
     "output_type": "execute_result"
    }
   ],
   "source": [
    "df.clean_text[0]"
   ]
  },
  {
   "cell_type": "markdown",
   "metadata": {},
   "source": [
    "Всё! Сохраняем датафрейм в файл. Для разнообразия сохраним в Excel:"
   ]
  },
  {
   "cell_type": "code",
   "execution_count": 45,
   "metadata": {},
   "outputs": [],
   "source": [
    "df.to_excel('nplus-news.xlsx')"
   ]
  }
 ],
 "metadata": {
  "kernelspec": {
   "display_name": "Python 3",
   "language": "python",
   "name": "python3"
  },
  "language_info": {
   "codemirror_mode": {
    "name": "ipython",
    "version": 3
   },
   "file_extension": ".py",
   "mimetype": "text/x-python",
   "name": "python",
   "nbconvert_exporter": "python",
   "pygments_lexer": "ipython3",
   "version": "3.7.4"
  }
 },
 "nbformat": 4,
 "nbformat_minor": 2
}
