{
 "cells": [
  {
   "cell_type": "markdown",
   "metadata": {},
   "source": [
    "## Программирование для всех (основы работы в Python)\n",
    "\n",
    "*Алла Тамбовцева, НИУ ВШЭ*"
   ]
  },
  {
   "cell_type": "markdown",
   "metadata": {},
   "source": [
    "## Web-scraping\n",
    "\n",
    "Мы уже немного познакомились со структурой HTML-файлов, теперь попробуем выгрузить информацию из реальной страницы, а точнее, с реального сайта [nplus1.ru](https://nplus1.ru/).\n",
    "\n",
    "**Наша задача:** выгрузить недавние новости в датафрейм pandas, чтобы потом сохранить всё в csv-файл.\n",
    "\n",
    "Сначала сгрузим весь html-код страницы и сохраним его в отдельную переменную. Для этого нам понадобится библиотека `requests`. Импортируем её:"
   ]
  },
  {
   "cell_type": "code",
   "execution_count": 2,
   "metadata": {},
   "outputs": [],
   "source": [
    "import requests"
   ]
  },
  {
   "cell_type": "markdown",
   "metadata": {},
   "source": [
    "Возьмём ссылку на главную страницу сайта и выгрузим страницу. (Разумеется, это будет работать при подключении к интернету. Если соединение будет отключено, Python выдаст `NewConnectionError`)."
   ]
  },
  {
   "cell_type": "code",
   "execution_count": 3,
   "metadata": {},
   "outputs": [],
   "source": [
    "page = requests.get(\"https://nplus1.ru/\") "
   ]
  },
  {
   "cell_type": "markdown",
   "metadata": {},
   "source": [
    "Если мы просто посмотрим на объект, мы ничего особенного не увидим:"
   ]
  },
  {
   "cell_type": "code",
   "execution_count": 5,
   "metadata": {},
   "outputs": [
    {
     "data": {
      "text/plain": [
       "<Response [200]>"
      ]
     },
     "execution_count": 5,
     "metadata": {},
     "output_type": "execute_result"
    }
   ],
   "source": [
    "page  # response 200 - страница загружена"
   ]
  },
  {
   "cell_type": "markdown",
   "metadata": {},
   "source": [
    "Импортируем функцию BeautifulSoup из библиотеки `bs4` (от `beautifulsoup4`) и заберём со страницы `page` код `html` в виде строки."
   ]
  },
  {
   "cell_type": "code",
   "execution_count": 6,
   "metadata": {},
   "outputs": [],
   "source": [
    "from bs4 import BeautifulSoup"
   ]
  },
  {
   "cell_type": "code",
   "execution_count": 7,
   "metadata": {},
   "outputs": [],
   "source": [
    "soup = BeautifulSoup(page.text)"
   ]
  },
  {
   "cell_type": "markdown",
   "metadata": {},
   "source": [
    "Если выведем `soup` на экран, мы увидим то же самое, что в режиме разработчика или в режиме просмотра исходного кода страницы (*view-source* через *Ctrl+U* в Google Chrome)."
   ]
  },
  {
   "cell_type": "code",
   "execution_count": null,
   "metadata": {},
   "outputs": [],
   "source": [
    "soup"
   ]
  },
  {
   "cell_type": "markdown",
   "metadata": {},
   "source": [
    "Для просмотра выглядит не очень удобно.  «Причешем» наш `soup` – воспользуемся методом `.prettify()` в сочетании с функцией `print()`."
   ]
  },
  {
   "cell_type": "code",
   "execution_count": null,
   "metadata": {},
   "outputs": [],
   "source": [
    "print(soup.prettify())"
   ]
  },
  {
   "cell_type": "markdown",
   "metadata": {},
   "source": [
    "В такой выдаче ориентироваться гораздо удобнее (но при желании, то же можно увидеть в браузере, на большом экране).\n",
    "\n",
    "Чтобы сгрузить все новости с главной страницы сайта, нужно собрать все ссылки на страницы с этими новостями. Ссылки в html-файле всегда заключены в тэг `<a></a>` и имеют атрибут `href`. Посмотрим на кусочки кода, соответствующие всем ссылкам на главной странице сайта:"
   ]
  },
  {
   "cell_type": "code",
   "execution_count": 8,
   "metadata": {},
   "outputs": [
    {
     "name": "stdout",
     "output_type": "stream",
     "text": [
      "#\n",
      "/\n",
      "#\n",
      "#\n",
      "/rubric/astronomy\n",
      "/rubric/physics\n",
      "/rubric/biology\n",
      "/rubric/robots-drones\n",
      "/theme/bookshelf\n",
      "/theme/nobelprize\n",
      "/theme/Courses\n",
      "/theme/coronavirus-history\n",
      "/theme/offline\n",
      "/\n",
      "#\n",
      "/rubric/astronomy\n",
      "/rubric/physics\n",
      "/rubric/biology\n",
      "/rubric/robots-drones\n",
      "#\n",
      "/theme/bookshelf\n",
      "/theme/nobelprize\n",
      "/theme/Courses\n",
      "/theme/coronavirus-history\n",
      "/theme/offline\n",
      "https://nplus1.ru/blog/2021/10/12/sodom-wasnt-bombed\n",
      "https://nplus1.ru/blog/2021/10/12/sodom-wasnt-bombed\n",
      "https://nplus1.ru/blog/2021/10/07/the-inside-story-on-headaches\n",
      "https://nplus1.ru/blog/2021/10/05/in-search-of-memory\n",
      "https://nplus1.ru/blog/2021/09/30/breaking-the-maya-code\n",
      "https://nplus1.ru/blog/2021/09/28/unsere-welt-neu-denken\n",
      "https://nplus1.ru/blog/2021/09/27/Its-The-end-of-the-world\n",
      "https://nplus1.ru/blog/2021/09/23/cosmological-koans\n",
      "https://nplus1.ru/blog/2021/09/21/the-French-Revolution\n",
      "https://nplus1.ru/blog/2021/09/16/lone-survivors\n",
      "https://nplus1.ru/blog/2021/10/20/six-impossible-things\n",
      "/news/2021/10/21/j6\n",
      "/news/2021/10/21/decorations\n",
      "/news/2021/10/21/ay42\n",
      "/news/2021/10/21/alemannic-burial\n",
      "/news/2021/10/21/ardenna-pacifica\n",
      "/news/2021/10/20/sound-magnetic-field-mercury\n",
      "/news/2021/10/20/msu-quadruped\n",
      "/material/2021/10/21/science-for-tasty-coffee\n",
      "/rubric/partners\n",
      "/material/2021/10/19/up\n",
      "/rubric/mezzanine\n",
      "/news/2021/10/20/homeland-horse\n",
      "/news/2021/10/20/viking-america\n",
      "/news/2021/10/20/ebikes\n",
      "/news/2021/10/20/loss-smell-bad-bell\n",
      "/news/2021/10/20/cosi\n",
      "/news/2021/10/20/air\n",
      "/blog/2021/10/20/six-impossible-things\n",
      "/blog/2021/10/12/sodom-wasnt-bombed\n",
      "/material/2021/10/19/NaturePhotographeroftheYear2021\n",
      "/rubric/zoology\n",
      "/theme/bellezza\n",
      "/material/2021/10/15/lucy-trojans\n",
      "/rubric/astronomy\n",
      "/news/2021/10/20/starline-cargo\n",
      "/news/2021/10/20/gmo-pig-kidney\n",
      "/news/2021/10/20/e-cigarettes\n",
      "/news/2021/10/20/roman-coin\n",
      "/news/2021/10/20/atomic-3d-scanner\n",
      "/news/2021/10/20/criosphinxes\n",
      "/blog/2021/10/07/the-inside-story-on-headaches\n",
      "/blog/2021/10/05/in-search-of-memory\n",
      "/material/2021/10/15/the-importance-of-statistics\n",
      "/rubric/partners\n",
      "/theme/applying-statistics\n",
      "/material/2021/10/15/fetal-surgery\n",
      "/rubric/medicine\n",
      "/news/2021/10/12/black-mesa\n",
      "/news/2021/10/14/TSSA\n",
      "/news/2021/10/15/bottle-of-neutrons\n",
      "/news/2021/10/15/AFI\n",
      "/news/2021/10/14/He-SP-STM\n",
      "/news/2021/10/12/Sterile-neutrinos\n",
      "/news/2021/10/13/acupuncture-gets-gain\n",
      "/news/2021/10/11/cyano-clock\n",
      "/news/2021/10/18/domain-video\n",
      "/material/2021/10/15/fetal-surgery\n",
      "https://nplus1.ru/blog/2021/10/12/sodom-wasnt-bombed\n",
      "https://nplus1.ru/blog/2021/10/12/sodom-wasnt-bombed\n",
      "https://nplus1.ru/blog/2021/10/07/the-inside-story-on-headaches\n",
      "https://nplus1.ru/blog/2021/10/05/in-search-of-memory\n",
      "https://nplus1.ru/blog/2021/09/30/breaking-the-maya-code\n",
      "https://nplus1.ru/blog/2021/09/28/unsere-welt-neu-denken\n",
      "https://nplus1.ru/blog/2021/09/27/Its-The-end-of-the-world\n",
      "https://nplus1.ru/blog/2021/09/23/cosmological-koans\n",
      "https://nplus1.ru/blog/2021/09/21/the-French-Revolution\n",
      "https://nplus1.ru/blog/2021/09/16/lone-survivors\n",
      "https://nplus1.ru/blog/2021/10/20/six-impossible-things\n",
      "/\n",
      "/about\n",
      "https://nplus.pro\n",
      "/adv\n",
      "/rules\n",
      "/vacancy\n",
      "/difficult\n",
      "mailto:info@nplus1.ru\n",
      "https://nplus1.ru/personal-data-policy\n",
      "#\n",
      "https://t.me/nplusone\n",
      "http://vk.com/nplusone\n",
      "https://www.facebook.com/nplusone\n",
      "https://twitter.com/nplusodin\n",
      "https://ok.ru/nplus1\n",
      "https://soundcloud.com/nplus_1\n",
      "/rss\n"
     ]
    }
   ],
   "source": [
    "for link in soup.find_all('a'):\n",
    "    print(link.get('href'))"
   ]
  },
  {
   "cell_type": "markdown",
   "metadata": {},
   "source": [
    "Ссылок много. Но нам нужны только новости – ссылки, которые начинаются со слова `/news`. Добавим условие: будем выбирать только те ссылки, в которых есть `/news`. Создадим пустой список `links` и будем добавлять в него только ссылки, которые удовлетворяют этому условию."
   ]
  },
  {
   "cell_type": "code",
   "execution_count": 9,
   "metadata": {},
   "outputs": [],
   "source": [
    "links = []\n",
    "for link in soup.find_all(\"a\"):\n",
    "    if \"/news\" in link.get(\"href\"):\n",
    "        links.append(link.get(\"href\")) "
   ]
  },
  {
   "cell_type": "markdown",
   "metadata": {},
   "source": [
    "Ссылки, которые у нас есть в списке `links`, относительные: они неполные, начало ссылки (название сайта) отсутствует. Давайте превратим их в абсолютные ‒ склеим с ссылкой https://nplus1.ru."
   ]
  },
  {
   "cell_type": "code",
   "execution_count": 10,
   "metadata": {},
   "outputs": [],
   "source": [
    "full_links = [\"https://nplus1.ru\" + i for i in links] "
   ]
  },
  {
   "cell_type": "code",
   "execution_count": 11,
   "metadata": {},
   "outputs": [
    {
     "name": "stdout",
     "output_type": "stream",
     "text": [
      "https://nplus1.ru/news/2021/10/21/j6\n",
      "https://nplus1.ru/news/2021/10/21/decorations\n",
      "https://nplus1.ru/news/2021/10/21/ay42\n",
      "https://nplus1.ru/news/2021/10/21/alemannic-burial\n",
      "https://nplus1.ru/news/2021/10/21/ardenna-pacifica\n",
      "https://nplus1.ru/news/2021/10/20/sound-magnetic-field-mercury\n",
      "https://nplus1.ru/news/2021/10/20/msu-quadruped\n",
      "https://nplus1.ru/news/2021/10/20/homeland-horse\n",
      "https://nplus1.ru/news/2021/10/20/viking-america\n",
      "https://nplus1.ru/news/2021/10/20/ebikes\n",
      "https://nplus1.ru/news/2021/10/20/loss-smell-bad-bell\n",
      "https://nplus1.ru/news/2021/10/20/cosi\n",
      "https://nplus1.ru/news/2021/10/20/air\n",
      "https://nplus1.ru/news/2021/10/20/starline-cargo\n",
      "https://nplus1.ru/news/2021/10/20/gmo-pig-kidney\n",
      "https://nplus1.ru/news/2021/10/20/e-cigarettes\n",
      "https://nplus1.ru/news/2021/10/20/roman-coin\n",
      "https://nplus1.ru/news/2021/10/20/atomic-3d-scanner\n",
      "https://nplus1.ru/news/2021/10/20/criosphinxes\n",
      "https://nplus1.ru/news/2021/10/12/black-mesa\n",
      "https://nplus1.ru/news/2021/10/14/TSSA\n",
      "https://nplus1.ru/news/2021/10/15/bottle-of-neutrons\n",
      "https://nplus1.ru/news/2021/10/15/AFI\n",
      "https://nplus1.ru/news/2021/10/14/He-SP-STM\n",
      "https://nplus1.ru/news/2021/10/12/Sterile-neutrinos\n",
      "https://nplus1.ru/news/2021/10/13/acupuncture-gets-gain\n",
      "https://nplus1.ru/news/2021/10/11/cyano-clock\n",
      "https://nplus1.ru/news/2021/10/18/domain-video\n"
     ]
    }
   ],
   "source": [
    "for i in full_links:\n",
    "    print(i)"
   ]
  },
  {
   "cell_type": "markdown",
   "metadata": {},
   "source": [
    "Теперь наша задача сводится к следующему: изучить одну страницу с новостью, научиться из нее вытаскивать текст и всю необходимую информацию, а потом применить весь набор действий к каждой ссылке из `full_links` в цикле. Посмотрим на новость с индексом 2, у вас может быть другая, новости обновляются."
   ]
  },
  {
   "cell_type": "code",
   "execution_count": 12,
   "metadata": {},
   "outputs": [],
   "source": [
    "url0 = full_links[2]\n",
    "page0 = requests.get(url0)\n",
    "soup0 = BeautifulSoup(page0.text)"
   ]
  },
  {
   "cell_type": "markdown",
   "metadata": {},
   "source": [
    "В коде каждой страницы с новостью есть часть с мета-информацией: датой, именем автора и проч. Такая информация окружена тэгом `<meta></meta>`. Посмотрим:"
   ]
  },
  {
   "cell_type": "code",
   "execution_count": 13,
   "metadata": {},
   "outputs": [
    {
     "data": {
      "text/plain": [
       "[<meta charset=\"utf-8\"/>,\n",
       " <meta content=\"ie=edge\" http-equiv=\"x-ua-compatible\"/>,\n",
       " <meta content=\"width=device-width, initial-scale=1\" name=\"viewport\"/>,\n",
       " <meta content=\"yes\" name=\"apple-mobile-web-app-capable\"/>,\n",
       " <meta content=\"black\" name=\"apple-mobile-web-app-status-bar-style\"/>,\n",
       " <meta content=\"7991d7eb02d759f05b9050e111a7e3eb\" name=\"wmail-verification\"/>,\n",
       " <meta content=\"2021-10-21\" itemprop=\"datePublished\"/>,\n",
       " <meta content=\"Анастасия Кузнецова\" name=\"mediator_author\"/>,\n",
       " <meta content=\"Он может быть на 10 процентов более заразнее\" name=\"description\"/>,\n",
       " <meta content=\"Анастасия Кузнецова\" name=\"author\"/>,\n",
       " <meta content=\"\" name=\"copyright\"/>,\n",
       " <meta content=\"В России выявили первые случаи заражения штаммом коронавируса AY.4.2\" property=\"og:title\"/>,\n",
       " <meta content=\"https://nplus1.ru/images/2021/10/21/735341fd631676f2d32272e8caf69029.jpg\" property=\"og:image\"/>,\n",
       " <meta content=\"https://nplus1.ru/news/2021/10/21/ay42\" property=\"og:url\"/>,\n",
       " <meta content=\"Он может быть на 10 процентов более заразнее\" property=\"og:description\"/>,\n",
       " <meta content=\"summary_large_image\" name=\"twitter:card\"/>,\n",
       " <meta content=\"@nplusodin\" name=\"twitter:site\"/>,\n",
       " <meta content=\"В России выявили первые случаи заражения штаммом коронавируса AY.4.2\" name=\"twitter:title\"/>,\n",
       " <meta content=\"Он может быть на 10 процентов более заразнее\" name=\"twitter:description\"/>,\n",
       " <meta content=\"https://nplus1.ru/images/2021/10/21/735341fd631676f2d32272e8caf69029.jpg\" name=\"twitter:image\"/>,\n",
       " <meta content=\"8c90b02c84ac3b72\" name=\"yandex-verification\"/>]"
      ]
     },
     "execution_count": 13,
     "metadata": {},
     "output_type": "execute_result"
    }
   ],
   "source": [
    "soup0.find_all('meta')"
   ]
  },
  {
   "cell_type": "markdown",
   "metadata": {},
   "source": [
    "Из этого списка нам нужны части с именем автора, датой, заголовком и кратким описанием. Воспользуемся поиском по атрибуту `name`. Передадим методу `.find_all()` в качестве аргумента словарь с названием и значением атрибута:"
   ]
  },
  {
   "cell_type": "code",
   "execution_count": 15,
   "metadata": {},
   "outputs": [
    {
     "data": {
      "text/plain": [
       "[<meta content=\"Анастасия Кузнецова\" name=\"mediator_author\"/>]"
      ]
     },
     "execution_count": 15,
     "metadata": {},
     "output_type": "execute_result"
    }
   ],
   "source": [
    "# например, автор\n",
    "soup0.find_all(\"meta\", {\"name\" : \"mediator_author\"})"
   ]
  },
  {
   "cell_type": "markdown",
   "metadata": {},
   "source": [
    "Теперь выберем единственный элемент полученного списка (с индексом 0):"
   ]
  },
  {
   "cell_type": "code",
   "execution_count": 16,
   "metadata": {},
   "outputs": [
    {
     "data": {
      "text/plain": [
       "<meta content=\"Анастасия Кузнецова\" name=\"mediator_author\"/>"
      ]
     },
     "execution_count": 16,
     "metadata": {},
     "output_type": "execute_result"
    }
   ],
   "source": [
    "soup0.find_all(\"meta\", {\"name\" : \"mediator_author\"})[0]"
   ]
  },
  {
   "cell_type": "markdown",
   "metadata": {},
   "source": [
    "Нам нужно вытащить из этого объекта `content` – имя автора. Посмотрим на атрибуты:"
   ]
  },
  {
   "cell_type": "code",
   "execution_count": 17,
   "metadata": {},
   "outputs": [
    {
     "data": {
      "text/plain": [
       "{'name': 'mediator_author', 'content': 'Анастасия Кузнецова'}"
      ]
     },
     "execution_count": 17,
     "metadata": {},
     "output_type": "execute_result"
    }
   ],
   "source": [
    "soup0.find_all(\"meta\", {\"name\" : \"mediator_author\"})[0].attrs"
   ]
  },
  {
   "cell_type": "markdown",
   "metadata": {},
   "source": [
    "Как получить отсюда `content`? Очень просто, ведь это словарь! А доставать из словаря значение по ключу мы умеем."
   ]
  },
  {
   "cell_type": "code",
   "execution_count": 18,
   "metadata": {},
   "outputs": [
    {
     "data": {
      "text/plain": [
       "'Анастасия Кузнецова'"
      ]
     },
     "execution_count": 18,
     "metadata": {},
     "output_type": "execute_result"
    }
   ],
   "source": [
    "author = soup0.find_all(\"meta\", \n",
    "                        {\"name\" : \"mediator_author\"})[0].get(\"content\")\n",
    "author"
   ]
  },
  {
   "cell_type": "markdown",
   "metadata": {},
   "source": [
    "Аналогичным образом извлечем заголовок и описание."
   ]
  },
  {
   "cell_type": "code",
   "execution_count": 19,
   "metadata": {},
   "outputs": [],
   "source": [
    "title = soup0.find_all(\"meta\", \n",
    "                      {\"property\" : \"og:title\"})[0].get(\"content\")\n",
    "desc = soup0.find_all(\"meta\", \n",
    "                        {\"name\" : \"description\"})[0].get(\"content\")"
   ]
  },
  {
   "cell_type": "markdown",
   "metadata": {},
   "source": [
    "Осталось вытащить рубрики и сложность текста. Если мы посмотрим на исходный код страницы, мы увидим, что нужная нам информация находится в тэгах `<p></p>` с классом `table`:"
   ]
  },
  {
   "cell_type": "code",
   "execution_count": 20,
   "metadata": {},
   "outputs": [
    {
     "data": {
      "text/plain": [
       "[<p class=\"table\">\n",
       " <a data-rubric=\"medicine\" href=\"/rubric/medicine\">Медицина</a>\n",
       " <a data-theme=\"coronavirus-history\" href=\"/theme/coronavirus-history\">Коронавирусные хроники</a>\n",
       " </p>, <p class=\"table\">\n",
       " <a href=\"/news/2021/10/21\">\n",
       " <time content=\"2021-10-21\" data-unix=\"1634801188\" itemprop=\"datePublished\">\n",
       " <span>10:26</span>\n",
       " <span>21 Окт. 2021</span>\n",
       " </time>\n",
       " </a>\n",
       " </p>, <p class=\"table\">\n",
       " <a href=\"/difficult/1.5\">\n",
       " <span>Сложность</span>\n",
       " <span class=\"difficult-value\">1.5</span>\n",
       " </a>\n",
       " </p>]"
      ]
     },
     "execution_count": 20,
     "metadata": {},
     "output_type": "execute_result"
    }
   ],
   "source": [
    "tables = soup0.find_all(\"p\", {\"class\": \"table\"})\n",
    "tables"
   ]
  },
  {
   "cell_type": "markdown",
   "metadata": {},
   "source": [
    "Получили список из трёх разных табличек. Сохраним элементы списка в отдельные переменные:"
   ]
  },
  {
   "cell_type": "code",
   "execution_count": 21,
   "metadata": {},
   "outputs": [],
   "source": [
    "tab_rubrics, tab_time, tab_diff = tables"
   ]
  },
  {
   "cell_type": "markdown",
   "metadata": {},
   "source": [
    "Поработаем с рубриками. Найдём все кусочки с тэгами `<a></a>`, а затем из каждого извлечём текст (текст ссылки, который записан внутри тэгов):"
   ]
  },
  {
   "cell_type": "code",
   "execution_count": 22,
   "metadata": {},
   "outputs": [
    {
     "data": {
      "text/plain": [
       "['Медицина', 'Коронавирусные хроники']"
      ]
     },
     "execution_count": 22,
     "metadata": {},
     "output_type": "execute_result"
    }
   ],
   "source": [
    "rubr_raw = tab_rubrics.find_all(\"a\")\n",
    "rubrics = [i.text for i in rubr_raw]\n",
    "rubrics"
   ]
  },
  {
   "cell_type": "markdown",
   "metadata": {},
   "source": [
    "Аналогичным образом обработаем `tab_time` и извлечём текст с временем и датой:"
   ]
  },
  {
   "cell_type": "code",
   "execution_count": 23,
   "metadata": {},
   "outputs": [],
   "source": [
    "time = tab_time.find_all(\"span\")[0].text\n",
    "date = tab_time.find_all(\"span\")[1].text"
   ]
  },
  {
   "cell_type": "markdown",
   "metadata": {},
   "source": [
    "Внутри `tab_diff` скрыта более сложная структура – нужно найти `span` с определённым значением атрибута `class`:"
   ]
  },
  {
   "cell_type": "code",
   "execution_count": 24,
   "metadata": {},
   "outputs": [
    {
     "data": {
      "text/plain": [
       "'1.5'"
      ]
     },
     "execution_count": 24,
     "metadata": {},
     "output_type": "execute_result"
    }
   ],
   "source": [
    "diffc = tab_diff.find_all(\"span\", {\"class\" : \"difficult-value\"})[0].text\n",
    "diffc"
   ]
  },
  {
   "cell_type": "markdown",
   "metadata": {},
   "source": [
    "Теперь перейдем к тексту самой новости. Как можно заметить, текст сохранен в абзацах `<p></p>`, причем безо всяких атрибутов. Сообщим Python, что нас интересуют куски с пустым атрибутом `class` (иначе мы соберём слишком много ненужной информации):"
   ]
  },
  {
   "cell_type": "code",
   "execution_count": 25,
   "metadata": {},
   "outputs": [],
   "source": [
    "parts = soup0.find_all(\"p\", {\"class\" : None})"
   ]
  },
  {
   "cell_type": "markdown",
   "metadata": {},
   "source": [
    "«Выцепим» все тексты (без тэгов) из полученного списка:"
   ]
  },
  {
   "cell_type": "code",
   "execution_count": 26,
   "metadata": {},
   "outputs": [],
   "source": [
    "parags = [i.text for i in parts]"
   ]
  },
  {
   "cell_type": "markdown",
   "metadata": {},
   "source": [
    "Склеим все элементы списка text через пробел:"
   ]
  },
  {
   "cell_type": "code",
   "execution_count": 27,
   "metadata": {},
   "outputs": [
    {
     "data": {
      "text/plain": [
       "'В\\xa0России выявили первые случаи заражения новым вариантом дельта-штамма коронавируса AY.4.2. Об\\xa0этом сообщила пресс-служба Роспотребнадзора. В\\xa0ведомстве считают, что новый вариант может быть на\\xa010\\xa0процентов более заразным, но\\xa0при этом не\\xa0будет вызывать более тяжелого заболевания, а\\xa0вакцины против него останутся эффективными. Дельта-вариант\\nкоронавируса, по\\xa0словам ВОЗ, окончательно вытеснил все\\nостальные штаммы и\\xa0теперь доминирует по\\xa0всему миру. Приобретенные мутации дали дельта-варианту\\nпреимущества\\xa0— он\\xa0заразнее предшественников, а\\xa0антителам вакцинированных и\\nпереболевших сложнее его нейтрализовать. Подробнее об\\xa0этом штамме коронавируса\\nможно почитать в\\xa0нашем материале От\\xa0«альфы» до\\xa0«дельты». Эволюция\\nкоронавируса, в\\xa0том числе и\\xa0самого дельта-штамма, продолжается. Мы\\xa0уже писали о\\nновом его варианте\\xa0— дельта-плюс, который появился в\\xa0России в\\xa0конце июня 2021\\nгода. Дельта-плюс отличается от\\xa0дельты мутацией S-белка K417N, которая была также у\\xa0бета-варианта коронавируса (южноафриканского). Последний находится под наблюдением медиков ВОЗ как вариант, вызывающий беспокойство. В\\xa0апреле в\\xa0Великобритании обнаружили еще один генетический вариант коронавируса AY.4.2, а\\xa0к\\xa0концу сентября на\\xa0него приходилось уже около шести процентов образцов.\\xa015\\xa0октября Департамент здравоохранения Великобритании включил AY.4.2\\xa0в список для мониторинга. AY.4.2 несет две мутации в\\xa0гене S-белка\\xa0— Y145H и\\xa0A222V. Пока нельзя точно сказать, насколько заразнее и\\xa0летальнее новый вариант, в\\xa0этой области сейчас проводятся исследования. При этом обе мутации уже встречались и\\xa0раньше в\\xa0разных линиях вируса, но\\xa0большого распространения эти линии не\\xa0получили. 21\\xa0октября руководитель научной группы разработки новых методов диагностики заболеваний человека ЦНИИ эпидемиологии Роспотребнадзора Камиль Хафизов заявил, что «вариант AY.4.2 линии „дельта“ уже обнаруживается в\\xa0единичных случаях в\\xa0России». Он\\xa0также сообщил, что «AY.4.2 может быть примерно на\\xa010\\xa0процентов более заразным». В\\xa0Роспотребнадзоре считают, что новый вариант с\\xa0большой вероятностью распространится в\\xa0РФ, но\\xa0полагают, что текущей подъем заболеваемости не\\xa0связан с\\xa0этим штаммом. Тяжесть протекания инфекции, вызванной новым штаммом, по\\xa0мнению экспертов Роспотребнадозра, сильно измениться не\\xa0должна, а\\xa0вакцины, скорее всего, останутся эффективными против AY.4.2, так как он\\xa0не\\xa0сильно отличается от\\xa0своих предшественников. Исследователи из\\xa0центра Гамалеи опубликовали данные об\\xa0эффективности «Спутника Лайт» против дельта-штамма коронавируса. Она составила 69,85\\xa0процента. Анастасия Кузнецова-Фантони Нашли опечатку? Выделите фрагмент и нажмите Ctrl+Enter. Коэффициент сложности Коэффициент сложности Коэффициент сложности Коэффициент сложности Коэффициент сложности Коэффициент сложности Коэффициент сложности Коэффициент сложности Коэффициент сложности Коэффициент сложности © 2021 N\\xa0+\\xa01 Интернет-издание \\xa0 Свидетельство о регистрации СМИ Эл № ФС77-67614 Использование всех текстовых материалов без изменений в некоммерческих целях разрешается со ссылкой на N\\xa0+\\xa01. \\n                        Все аудиовизуальные произведения являются собственностью своих авторов и правообладателей и используются \\n                        только в образовательных и информационных целях. Если вы являетесь собственником того или иного произведения \\n                        и не согласны с его размещением на нашем сайте, пожалуйста, напишите на kirill@nplus1.ru Материалы, опубликованные в разделе «Блоги», отражают позиции их авторов, которые могут не совпадать с мнением редакции. Сайт может содержать контент, не предназначенный для лиц младше 18 лет. Связь с редакцией: info@nplus1.ru \\nПолитика обработки персональных данных пользователей сайта\\n \\n\\nChange privacy settings\\n \\n'"
      ]
     },
     "execution_count": 27,
     "metadata": {},
     "output_type": "execute_result"
    }
   ],
   "source": [
    "text = \" \".join(parags)\n",
    "text"
   ]
  },
  {
   "cell_type": "markdown",
   "metadata": {},
   "source": [
    "Осталось только заменить непонятные символы `\\xa0` на пробелы (на самом деле это неразрывные пробелы, которые в HTML кодируются специальным символом):"
   ]
  },
  {
   "cell_type": "code",
   "execution_count": 28,
   "metadata": {},
   "outputs": [],
   "source": [
    "text = text.replace(\"\\xa0\", \" \")"
   ]
  },
  {
   "cell_type": "markdown",
   "metadata": {},
   "source": [
    "Давайте почистим текст новостей – уберём оттуда текст, не относящийся к новостям. Лишний текст находится после фразы 'Нашли опечатку?'. Так давайте будем разбивать строки по этой фразе с помощью метода `.split()` и брать всё, что до неё (элемент с индексом 0)."
   ]
  },
  {
   "cell_type": "code",
   "execution_count": 29,
   "metadata": {},
   "outputs": [],
   "source": [
    "text_final = text.split(\"Нашли опечатку?\")[0]"
   ]
  },
  {
   "cell_type": "markdown",
   "metadata": {},
   "source": [
    "Не прошло и двух пар, как мы разобрались со всем :) Теперь осталось совсем чуть-чуть. Написать готовую функцию для всех проделанных нами действий и применить ее в цикле для всех ссылок в списке `full_links`. Напишем! Аргументом функции будет ссылка на новость, а возвращать она будет текст новости и всю необходимую информацию (дата, автор, сложность и проч.). Скопируем все строки кода выше."
   ]
  },
  {
   "cell_type": "code",
   "execution_count": 30,
   "metadata": {},
   "outputs": [],
   "source": [
    "def get_info(url0):\n",
    "    page0 = requests.get(url0)\n",
    "    soup0 = BeautifulSoup(page0.text)\n",
    "    author = soup0.find_all(\"meta\", \n",
    "                        {\"name\" : \"mediator_author\"})[0].get(\"content\")\n",
    "    title = soup0.find_all(\"meta\", \n",
    "                          {\"property\" : \"og:title\"})[0].get(\"content\")\n",
    "    desc = soup0.find_all(\"meta\", \n",
    "                            {\"name\" : \"description\"})[0].get(\"content\")\n",
    "    tables = soup0.find_all(\"p\", {\"class\": \"table\"})\n",
    "    tab_rubrics, tab_time, tab_diff = tables\n",
    "    rubr_raw = tab_rubrics.find_all(\"a\")\n",
    "    rubrics = [i.text for i in rubr_raw]\n",
    "    time = tab_time.find_all(\"span\")[0].text\n",
    "    date = tab_time.find_all(\"span\")[1].text\n",
    "    diffc = tab_diff.find_all(\"span\", {\"class\" : \"difficult-value\"})[0].text\n",
    "    parts = soup0.find_all(\"p\", {\"class\" : None})\n",
    "    parags = [i.text for i in parts]\n",
    "    text = \" \".join(parags)\n",
    "    text = text.replace(\"\\xa0\", \" \")\n",
    "    text_final = text.split(\"Нашли опечатку?\")[0]\n",
    "    return author, title, desc, rubrics, time, date, diffc, text_final"
   ]
  },
  {
   "cell_type": "markdown",
   "metadata": {},
   "source": [
    "Проверим функцию на какой-нибудь ссылке (не той, с которой работали ранее):"
   ]
  },
  {
   "cell_type": "code",
   "execution_count": 31,
   "metadata": {},
   "outputs": [
    {
     "data": {
      "text/plain": [
       "('Александр Войтюк',\n",
       " '«БепиКоломбо» услышал «пение» магнитосферы Меркурия',\n",
       " 'А также оценил состав экзосферы планеты',\n",
       " ['Космонавтика', 'Звук'],\n",
       " '19:56',\n",
       " '20 Окт. 2021',\n",
       " '3.2',\n",
       " 'Команда межпланетной станции «БепиКоломбо» опубликовали научные данные, собранные во время первого гравитационного маневра у Меркурия. Научные приборы за время сближения оценили состав экзосферы планеты, записали «пение» магнитосферы Меркурия и зафиксировали потоки нейтронов и гамма-квантов с поверхности планеты, сообщается на сайте ESA. Меркурий — одна из самых малоисследованных планет Солнечной системы. За всю историю космонавтики к нему летали лишь два аппарата, а третья миссия — «БепиКоломбо» — стартовала три года назад. Она состоит из европейского аппарата MPO (Mercury Planetary Orbiter), японского MMO (Mercury Magnetospheric Orbiter) и перелетного модуля MTM. Ожидается, что в декабре 2025 года аппараты выйдут на рабочие полярные орбиты вокруг Меркурия и начнут изучение его поверхности и внутренней структуры, поищут залежи льда и определят свойства магнитосферы и экзосферы планеты. 1 октября 2021 года аппараты впервые увидели свою цели вблизи, совершив первый из шести гравитационных маневров вблизи Меркурия. Во время сближения 11 из 16 научных приборов на борту «БепиКоломбо» работали, в том числе три, созданные при участии Института космических исследований РАН. Гамма- и нейтронный спектрометр MGNS обнаружил потоки нейтронов и гамма-квантов, рожденных в результате взаимодействия галактических космических лучей с поверхностным слоем грунта планеты, которые похожи на те, что наблюдались аппаратом MESSENGER. Ультрафиолетовый спектрометр PHEBUS обнаружил наличие в экзосфере Меркурия водорода и кальция.    Ученые также превратили в звук данные, собранные магнитометром, которые демонстрируют динамику магнитного поля вблизи планеты. Хорошо слышен момент пересечения космическими аппаратами магнитослоя — сильно турбулентной пограничной области, где магнитосфера Меркурия встречается с солнечным ветром.  Ранее мы рассказывали о научных данных, собранных «БепиКоломбо» во время облета Венеры — станция исследовала атмосферу и магнитосферу планеты. О том, какие тайны Меркурия должна раскрыть миссия, можно узнать в нашем материале «На Меркурий за водой». Александр Войтюк ')"
      ]
     },
     "execution_count": 31,
     "metadata": {},
     "output_type": "execute_result"
    }
   ],
   "source": [
    "get_info(full_links[5])"
   ]
  },
  {
   "cell_type": "markdown",
   "metadata": {},
   "source": [
    "Осталось применить ее в цикле. Но давайте не будем спешить: импортируем функцию `sleep` для задержки, чтобы на каждой итерации цикла, прежде чем перейти к следующей новости, Python ждал несколько секунд. Во-первых, это нужно, чтобы сайт «не понял», чтобы мы его грабим, да еще автоматически. Во-вторых, с небольшой задержкой всегда есть гарантия, что страница прогрузится (сейчас это пока не очень важно, но особенно актуально будет, если будем обсуждать встраивание в браузер с Selenium). Приступим."
   ]
  },
  {
   "cell_type": "code",
   "execution_count": 32,
   "metadata": {},
   "outputs": [],
   "source": [
    "from time import sleep"
   ]
  },
  {
   "cell_type": "code",
   "execution_count": 34,
   "metadata": {},
   "outputs": [],
   "source": [
    "info = [] # это будет список из кортежей, в которых будут храниться данные по каждой новости\n",
    "\n",
    "for link in full_links:\n",
    "    res = get_info(link)\n",
    "    info.append(res)\n",
    "    sleep(1.5) # задержка в 1.5 секунды"
   ]
  },
  {
   "cell_type": "code",
   "execution_count": 36,
   "metadata": {},
   "outputs": [
    {
     "data": {
      "text/plain": [
       "('Василиса Чернявцева',\n",
       " 'Китай переделал советские истребители в беспилотники',\n",
       " 'В сети появились фотографии беспилотников, переделанных из китайских истребителей J-6 — китайской копии МиГ-19',\n",
       " ['Авиация', 'Оружие'],\n",
       " '12:33',\n",
       " '21 Окт. 2021',\n",
       " '2.8',\n",
       " ' В сети появились фотографии беспилотников, переделанных из китайских истребителей J-6 — китайской копии МиГ-19. Как сообщает Defense News, их изначально опубликовало командование восточного военного округа КНР.  J-6 — это китайская копия самолета МиГ-19, первого серийного сверхзвукового истребителя в СССР. При размахе крыла в 9,2 метра его длина — 12,5 метра. Максимальный взлетный вес J-6 составляет 8,8 тонны, при этом самолет может нести до 3,75 тонны полезной нагрузки. Истребитель может летать с крейсерской скоростью 830 узлов на расстояния до 2,2 тысячи километров.  J-6 официально вышли из состава ВВС Народно-освободительной армии Китая в 2010 году, но продолжали появляться на спутниковых снимках с двух авиабаз неподалеку от Тайваня. Ходили слухи, что их переделали в беспилотники, чтобы использовать в качестве воздушных целей или в других целях.  В октябре в сети появились фотографии беспилотных J-6. По данным Defense News, их изначально опубликовало командование восточного военного округа в Weibo. Сейчас этот пост военные, очевидно, удалили, но снимки остались в других социальных сетях. На них серийные номера летательных аппаратов замазаны, что может указывать на то, что они находятся в активной эксплуатации. Снимки с авиабаз неподалеку от Тайваня говорят, что таких аппаратов у китайских военных значительное число.  Китайцы не первый раз переделывают старые советские самолеты в беспилотники. Например, их транспортный беспилотник FH-98 создан на базе многоцелевого биплана Y-5B, копии советского «Кукурузника». Василиса Чернявцева ')"
      ]
     },
     "execution_count": 36,
     "metadata": {},
     "output_type": "execute_result"
    }
   ],
   "source": [
    "info[0]"
   ]
  },
  {
   "cell_type": "markdown",
   "metadata": {},
   "source": [
    "Импортируем pandas и создадим датафрейм из списка кортежей:"
   ]
  },
  {
   "cell_type": "code",
   "execution_count": 37,
   "metadata": {},
   "outputs": [],
   "source": [
    "import pandas as pd"
   ]
  },
  {
   "cell_type": "code",
   "execution_count": 38,
   "metadata": {},
   "outputs": [],
   "source": [
    "df = pd.DataFrame(info)"
   ]
  },
  {
   "cell_type": "code",
   "execution_count": 39,
   "metadata": {},
   "outputs": [
    {
     "data": {
      "text/html": [
       "<div>\n",
       "<style scoped>\n",
       "    .dataframe tbody tr th:only-of-type {\n",
       "        vertical-align: middle;\n",
       "    }\n",
       "\n",
       "    .dataframe tbody tr th {\n",
       "        vertical-align: top;\n",
       "    }\n",
       "\n",
       "    .dataframe thead th {\n",
       "        text-align: right;\n",
       "    }\n",
       "</style>\n",
       "<table border=\"1\" class=\"dataframe\">\n",
       "  <thead>\n",
       "    <tr style=\"text-align: right;\">\n",
       "      <th></th>\n",
       "      <th>0</th>\n",
       "      <th>1</th>\n",
       "      <th>2</th>\n",
       "      <th>3</th>\n",
       "      <th>4</th>\n",
       "      <th>5</th>\n",
       "      <th>6</th>\n",
       "      <th>7</th>\n",
       "    </tr>\n",
       "  </thead>\n",
       "  <tbody>\n",
       "    <tr>\n",
       "      <td>0</td>\n",
       "      <td>Василиса Чернявцева</td>\n",
       "      <td>Китай переделал советские истребители в беспил...</td>\n",
       "      <td>В сети появились фотографии беспилотников, пер...</td>\n",
       "      <td>[Авиация, Оружие]</td>\n",
       "      <td>12:33</td>\n",
       "      <td>21 Окт. 2021</td>\n",
       "      <td>2.8</td>\n",
       "      <td>В сети появились фотографии беспилотников, пе...</td>\n",
       "    </tr>\n",
       "    <tr>\n",
       "      <td>1</td>\n",
       "      <td>Михаил Подрезов</td>\n",
       "      <td>В Баварии нашли останки раннесредневековой мод...</td>\n",
       "      <td>Археологи провели раскопки некрополя в окрестн...</td>\n",
       "      <td>[Археология, Антропология]</td>\n",
       "      <td>11:45</td>\n",
       "      <td>21 Окт. 2021</td>\n",
       "      <td>2.9</td>\n",
       "      <td>Немецкие археологи раскопали раннесредневековы...</td>\n",
       "    </tr>\n",
       "    <tr>\n",
       "      <td>2</td>\n",
       "      <td>Анастасия Кузнецова</td>\n",
       "      <td>В России выявили первые случаи заражения штамм...</td>\n",
       "      <td>Он может быть на 10 процентов более заразнее</td>\n",
       "      <td>[Медицина, Коронавирусные хроники]</td>\n",
       "      <td>10:26</td>\n",
       "      <td>21 Окт. 2021</td>\n",
       "      <td>1.5</td>\n",
       "      <td>В России выявили первые случаи заражения новым...</td>\n",
       "    </tr>\n",
       "  </tbody>\n",
       "</table>\n",
       "</div>"
      ],
      "text/plain": [
       "                     0                                                  1  \\\n",
       "0  Василиса Чернявцева  Китай переделал советские истребители в беспил...   \n",
       "1      Михаил Подрезов  В Баварии нашли останки раннесредневековой мод...   \n",
       "2  Анастасия Кузнецова  В России выявили первые случаи заражения штамм...   \n",
       "\n",
       "                                                   2  \\\n",
       "0  В сети появились фотографии беспилотников, пер...   \n",
       "1  Археологи провели раскопки некрополя в окрестн...   \n",
       "2       Он может быть на 10 процентов более заразнее   \n",
       "\n",
       "                                    3      4             5    6  \\\n",
       "0                   [Авиация, Оружие]  12:33  21 Окт. 2021  2.8   \n",
       "1          [Археология, Антропология]  11:45  21 Окт. 2021  2.9   \n",
       "2  [Медицина, Коронавирусные хроники]  10:26  21 Окт. 2021  1.5   \n",
       "\n",
       "                                                   7  \n",
       "0   В сети появились фотографии беспилотников, пе...  \n",
       "1  Немецкие археологи раскопали раннесредневековы...  \n",
       "2  В России выявили первые случаи заражения новым...  "
      ]
     },
     "execution_count": 39,
     "metadata": {},
     "output_type": "execute_result"
    }
   ],
   "source": [
    "df.head(3)"
   ]
  },
  {
   "cell_type": "markdown",
   "metadata": {},
   "source": [
    "Переименуем столбцы в датафрейме."
   ]
  },
  {
   "cell_type": "code",
   "execution_count": 40,
   "metadata": {},
   "outputs": [],
   "source": [
    "df.columns = [\"author\", \"title\", \"description\", \"rubrics\", \n",
    "              \"time\", \"date\", \"difficulty\", \"text\"]"
   ]
  },
  {
   "cell_type": "code",
   "execution_count": 41,
   "metadata": {},
   "outputs": [
    {
     "data": {
      "text/html": [
       "<div>\n",
       "<style scoped>\n",
       "    .dataframe tbody tr th:only-of-type {\n",
       "        vertical-align: middle;\n",
       "    }\n",
       "\n",
       "    .dataframe tbody tr th {\n",
       "        vertical-align: top;\n",
       "    }\n",
       "\n",
       "    .dataframe thead th {\n",
       "        text-align: right;\n",
       "    }\n",
       "</style>\n",
       "<table border=\"1\" class=\"dataframe\">\n",
       "  <thead>\n",
       "    <tr style=\"text-align: right;\">\n",
       "      <th></th>\n",
       "      <th>author</th>\n",
       "      <th>title</th>\n",
       "      <th>description</th>\n",
       "      <th>rubrics</th>\n",
       "      <th>time</th>\n",
       "      <th>date</th>\n",
       "      <th>difficulty</th>\n",
       "      <th>text</th>\n",
       "    </tr>\n",
       "  </thead>\n",
       "  <tbody>\n",
       "    <tr>\n",
       "      <td>0</td>\n",
       "      <td>Василиса Чернявцева</td>\n",
       "      <td>Китай переделал советские истребители в беспил...</td>\n",
       "      <td>В сети появились фотографии беспилотников, пер...</td>\n",
       "      <td>[Авиация, Оружие]</td>\n",
       "      <td>12:33</td>\n",
       "      <td>21 Окт. 2021</td>\n",
       "      <td>2.8</td>\n",
       "      <td>В сети появились фотографии беспилотников, пе...</td>\n",
       "    </tr>\n",
       "    <tr>\n",
       "      <td>1</td>\n",
       "      <td>Михаил Подрезов</td>\n",
       "      <td>В Баварии нашли останки раннесредневековой мод...</td>\n",
       "      <td>Археологи провели раскопки некрополя в окрестн...</td>\n",
       "      <td>[Археология, Антропология]</td>\n",
       "      <td>11:45</td>\n",
       "      <td>21 Окт. 2021</td>\n",
       "      <td>2.9</td>\n",
       "      <td>Немецкие археологи раскопали раннесредневековы...</td>\n",
       "    </tr>\n",
       "    <tr>\n",
       "      <td>2</td>\n",
       "      <td>Анастасия Кузнецова</td>\n",
       "      <td>В России выявили первые случаи заражения штамм...</td>\n",
       "      <td>Он может быть на 10 процентов более заразнее</td>\n",
       "      <td>[Медицина, Коронавирусные хроники]</td>\n",
       "      <td>10:26</td>\n",
       "      <td>21 Окт. 2021</td>\n",
       "      <td>1.5</td>\n",
       "      <td>В России выявили первые случаи заражения новым...</td>\n",
       "    </tr>\n",
       "  </tbody>\n",
       "</table>\n",
       "</div>"
      ],
      "text/plain": [
       "                author                                              title  \\\n",
       "0  Василиса Чернявцева  Китай переделал советские истребители в беспил...   \n",
       "1      Михаил Подрезов  В Баварии нашли останки раннесредневековой мод...   \n",
       "2  Анастасия Кузнецова  В России выявили первые случаи заражения штамм...   \n",
       "\n",
       "                                         description  \\\n",
       "0  В сети появились фотографии беспилотников, пер...   \n",
       "1  Археологи провели раскопки некрополя в окрестн...   \n",
       "2       Он может быть на 10 процентов более заразнее   \n",
       "\n",
       "                              rubrics   time          date difficulty  \\\n",
       "0                   [Авиация, Оружие]  12:33  21 Окт. 2021        2.8   \n",
       "1          [Археология, Антропология]  11:45  21 Окт. 2021        2.9   \n",
       "2  [Медицина, Коронавирусные хроники]  10:26  21 Окт. 2021        1.5   \n",
       "\n",
       "                                                text  \n",
       "0   В сети появились фотографии беспилотников, пе...  \n",
       "1  Немецкие археологи раскопали раннесредневековы...  \n",
       "2  В России выявили первые случаи заражения новым...  "
      ]
     },
     "execution_count": 41,
     "metadata": {},
     "output_type": "execute_result"
    }
   ],
   "source": [
    "df.head(3)"
   ]
  },
  {
   "cell_type": "markdown",
   "metadata": {},
   "source": [
    "Теперь внесем изменения: сделаем столбец `difficulty` числовым – типа `float`."
   ]
  },
  {
   "cell_type": "code",
   "execution_count": 44,
   "metadata": {},
   "outputs": [],
   "source": [
    "df['difficulty'] = df['difficulty'].astype(float)"
   ]
  },
  {
   "cell_type": "markdown",
   "metadata": {},
   "source": [
    "Теперь сложность представлена как количественный показатель, и описывать её можно соответствующим образом:"
   ]
  },
  {
   "cell_type": "code",
   "execution_count": 45,
   "metadata": {},
   "outputs": [
    {
     "data": {
      "text/plain": [
       "count    28.000000\n",
       "mean      4.060714\n",
       "std       2.267866\n",
       "min       1.500000\n",
       "25%       2.375000\n",
       "50%       3.000000\n",
       "75%       5.650000\n",
       "max       8.700000\n",
       "Name: difficulty, dtype: float64"
      ]
     },
     "execution_count": 45,
     "metadata": {},
     "output_type": "execute_result"
    }
   ],
   "source": [
    "df[\"difficulty\"].describe()"
   ]
  },
  {
   "cell_type": "markdown",
   "metadata": {},
   "source": [
    "Теперь столбец со сложностью точно числовой. Можем даже построить для него гистограмму."
   ]
  },
  {
   "cell_type": "code",
   "execution_count": 46,
   "metadata": {},
   "outputs": [
    {
     "data": {
      "text/plain": [
       "<matplotlib.axes._subplots.AxesSubplot at 0x11ed9ba10>"
      ]
     },
     "execution_count": 46,
     "metadata": {},
     "output_type": "execute_result"
    },
    {
     "data": {
      "image/png": "[encoded data removed]",
      "text/plain": [
       "<Figure size 432x288 with 1 Axes>"
      ]
     },
     "metadata": {
      "needs_background": "light"
     },
     "output_type": "display_data"
    }
   ],
   "source": [
    "%matplotlib inline\n",
    "df[\"difficulty\"].plot.hist()"
   ]
  },
  {
   "cell_type": "markdown",
   "metadata": {},
   "source": [
    "Всё! Сохраняем датафрейм в файл. Для разнообразия сохраним в Excel:"
   ]
  },
  {
   "cell_type": "code",
   "execution_count": 47,
   "metadata": {},
   "outputs": [],
   "source": [
    "df.to_excel('nplus1-news.xlsx')"
   ]
  }
 ],
 "metadata": {
  "kernelspec": {
   "display_name": "Python 3",
   "language": "python",
   "name": "python3"
  },
  "language_info": {
   "codemirror_mode": {
    "name": "ipython",
    "version": 3
   },
   "file_extension": ".py",
   "mimetype": "text/x-python",
   "name": "python",
   "nbconvert_exporter": "python",
   "pygments_lexer": "ipython3",
   "version": "3.7.4"
  }
 },
 "nbformat": 4,
 "nbformat_minor": 5
}
